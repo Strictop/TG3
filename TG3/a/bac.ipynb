{
 "cells": [
  {
   "cell_type": "markdown",
   "id": "20f88ee6",
   "metadata": {},
   "source": [
    "# exercice 1\n",
    "\n",
    "1. Dans le programme 1 les valeurs de x et y sont:\n",
    "x=0\n",
    "y=20\n",
    "2. C'est un fichier texte donc python peut etre vu comme une chaine de caractere\n",
    "3. Le programme 3 et 5 se terminent alors que le 4 et le 6 ne se terminent pas, ils sont infini.\n",
    "4. blabla\n",
    "5. L'algo de Boyer-moore est un algo de recherche de sous chaine"
   ]
  },
  {
   "cell_type": "code",
   "execution_count": 3,
   "id": "9e7609e1",
   "metadata": {},
   "outputs": [],
   "source": [
    "# 6\n",
    "def arret_essai2(programme):\n",
    "    return not recherche(\"while\",programme)"
   ]
  },
  {
   "cell_type": "code",
   "execution_count": null,
   "id": "f0db6211",
   "metadata": {},
   "outputs": [],
   "source": []
  }
 ],
 "metadata": {
  "kernelspec": {
   "display_name": "Python 3",
   "language": "python",
   "name": "python3"
  },
  "language_info": {
   "codemirror_mode": {
    "name": "ipython",
    "version": 3
   },
   "file_extension": ".py",
   "mimetype": "text/x-python",
   "name": "python",
   "nbconvert_exporter": "python",
   "pygments_lexer": "ipython3",
   "version": "3.12.1"
  }
 },
 "nbformat": 4,
 "nbformat_minor": 5
}
