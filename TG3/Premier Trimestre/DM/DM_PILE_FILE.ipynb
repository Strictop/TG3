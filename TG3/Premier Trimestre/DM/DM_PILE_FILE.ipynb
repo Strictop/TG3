{
 "cells": [
  {
   "cell_type": "markdown",
   "metadata": {},
   "source": [
    "<center> <h1> DM Pile File\n"
   ]
  },
  {
   "cell_type": "markdown",
   "metadata": {},
   "source": [
    "1. Parmi les propositions suivantes, quelle est la structure de données la plus appropriée pour \n",
    "mettre en œuvre le mode FIFO (First In First Out) ? \n",
    "    - a)  liste \n",
    "    - b)  dictionnaire \n",
    "    - c) pile \n",
    "    - d)  file "
   ]
  },
  {
   "cell_type": "markdown",
   "metadata": {},
   "source": [
    "La structure de données la plus appropriée pour mettre en oeuvre le mode FIFO est la reponse: d) file"
   ]
  },
  {
   "cell_type": "markdown",
   "metadata": {},
   "source": [
    "---\n",
    "\n"
   ]
  },
  {
   "cell_type": "markdown",
   "metadata": {},
   "source": [
    "2. On choisit de stocker les données des processus en attente à l'aide d'une liste Python lst. \n",
    "On dispose déjà d'une fonction retirer(lst) qui renvoie l'élément lst[0] puis le \n",
    "supprime de la liste lst. Écrire en Python le code d'une fonction ajouter(lst, proc) qui \n",
    "ajoute à la fin de la liste lst le nouveau processus en attente proc."
   ]
  },
  {
   "cell_type": "code",
   "execution_count": null,
   "metadata": {},
   "outputs": [],
   "source": [
    "def ajouter(lst, proc):\n",
    "    lst.append(proc)\n",
    "    return lst"
   ]
  },
  {
   "cell_type": "markdown",
   "metadata": {},
   "source": [
    "---"
   ]
  },
  {
   "cell_type": "markdown",
   "metadata": {},
   "source": [
    "3. On considere la situation représentée ci-dessous"
   ]
  },
  {
   "cell_type": "markdown",
   "metadata": {},
   "source": [
    "/// ps6\n",
    "/// ps5\n",
    "ps7 ps4\n",
    "p1 / p2"
   ]
  },
  {
   "cell_type": "markdown",
   "metadata": {},
   "source": [
    "4. On dispose des fonctions : \n",
    "- empiler(p,elt) qui empile l'élément elt dans la pile p, \n",
    "- depiler(p) qui renvoie le sommet de la pile p si p n'est pas vide et le \n",
    "supprime, \n",
    "- pile_vide(p) qui renvoie True si la pile p est vide, False si la pile p n'est \n",
    "pas vide. \n",
    " "
   ]
  },
  {
   "cell_type": "markdown",
   "metadata": {},
   "source": [
    "a. Écrire en Python une fonction est_vide(f) qui prend en argument un couple de \n",
    "piles f et qui renvoie True si la file représentée par f est vide, False sinon. "
   ]
  },
  {
   "cell_type": "code",
   "execution_count": null,
   "metadata": {},
   "outputs": [],
   "source": [
    "def est_vide(f) :\n",
    "    return pile_vide(f[0]) and pile_vide(f[1])"
   ]
  },
  {
   "cell_type": "markdown",
   "metadata": {},
   "source": [
    "b. Écrire en Python une fonction enfiler(f,elt) qui prend en arguments un couple de \n",
    "piles f et un élément elt et qui ajoute elt en queue de la file représentée par f. \n"
   ]
  },
  {
   "cell_type": "code",
   "execution_count": null,
   "metadata": {},
   "outputs": [],
   "source": [
    "def enfiler(f,elt):\n",
    "    return empiler(f[0,elt])"
   ]
  },
  {
   "cell_type": "markdown",
   "metadata": {},
   "source": [
    "c.  Écrire en Python une fonction defiler(f) qui prend en argument un couple de piles f \n",
    "et qui renvoie l'élement en tête de la file représentée par f en le retirant."
   ]
  },
  {
   "cell_type": "code",
   "execution_count": null,
   "metadata": {},
   "outputs": [],
   "source": [
    "def defiler(f):\n",
    "    if pile_vide(f[1]):\n",
    "        while not pile_vide(f[0]):\n",
    "            enfiler(f[1],depiler(f[0]))\n",
    "        return depiler(f[1])"
   ]
  }
 ],
 "metadata": {
  "kernelspec": {
   "display_name": "Python 3",
   "language": "python",
   "name": "python3"
  },
  "language_info": {
   "codemirror_mode": {
    "name": "ipython",
    "version": 3
   },
   "file_extension": ".py",
   "mimetype": "text/x-python",
   "name": "python",
   "nbconvert_exporter": "python",
   "pygments_lexer": "ipython3",
   "version": "3.12.1"
  }
 },
 "nbformat": 4,
 "nbformat_minor": 2
}
