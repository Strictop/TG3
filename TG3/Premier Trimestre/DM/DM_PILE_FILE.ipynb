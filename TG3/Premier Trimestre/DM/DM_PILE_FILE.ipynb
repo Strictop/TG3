{
 "cells": [
  {
   "cell_type": "markdown",
   "metadata": {},
   "source": [
    "<center> <h1> DM Pile File\n"
   ]
  },
  {
   "cell_type": "markdown",
   "metadata": {},
   "source": [
    "1. Parmi les propositions suivantes, quelle est la structure de données la plus appropriée pour \n",
    "mettre en œuvre le mode FIFO (First In First Out) ? \n",
    "    - a)  liste \n",
    "    - b)  dictionnaire \n",
    "    - c) pile \n",
    "    - d)  file "
   ]
  }
 ],
 "metadata": {
  "kernelspec": {
   "display_name": "Python 3",
   "language": "python",
   "name": "python3"
  },
  "language_info": {
   "name": "python",
   "version": "3.12.1"
  }
 },
 "nbformat": 4,
 "nbformat_minor": 2
}
