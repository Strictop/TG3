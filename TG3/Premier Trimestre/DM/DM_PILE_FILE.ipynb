{
 "cells": [
  {
   "cell_type": "markdown",
   "metadata": {},
   "source": [
    "<center> <h1> DM Pile File\n"
   ]
  },
  {
   "cell_type": "markdown",
   "metadata": {},
   "source": [
    "1. Parmi les propositions suivantes, quelle est la structure de données la plus appropriée pour \n",
    "mettre en œuvre le mode FIFO (First In First Out) ? \n",
    "    - a)  liste \n",
    "    - b)  dictionnaire \n",
    "    - c) pile \n",
    "    - d)  file "
   ]
  },
  {
   "cell_type": "markdown",
   "metadata": {},
   "source": [
    "La structure de données la plus appropriée pour mettre en oeuvre le mode FIFO est la reponse: d) file"
   ]
  },
  {
   "cell_type": "markdown",
   "metadata": {},
   "source": [
    "---\n",
    "\n"
   ]
  },
  {
   "cell_type": "markdown",
   "metadata": {},
   "source": [
    "2. On choisit de stocker les données des processus en attente à l'aide d'une liste Python lst. \n",
    "On dispose déjà d'une fonction retirer(lst) qui renvoie l'élément lst[0] puis le \n",
    "supprime de la liste lst. Écrire en Python le code d'une fonction ajouter(lst, proc) qui \n",
    "ajoute à la fin de la liste lst le nouveau processus en attente proc."
   ]
  },
  {
   "cell_type": "code",
   "execution_count": 8,
   "metadata": {},
   "outputs": [],
   "source": [
    "def ajouter(lst, proc):\n",
    "    lst.append(proc)"
   ]
  },
  {
   "cell_type": "code",
   "execution_count": null,
   "metadata": {},
   "outputs": [],
   "source": [
    "class File:\n",
    "    def __init__(self):\n",
    "        self.p1 = []\n",
    " a       self.p2 = []\n"
   ]
  },
  {
   "cell_type": "code",
   "execution_count": null,
   "metadata": {},
   "outputs": [],
   "source": [
    "def enfiler(self, elt):\n",
    "    self.p1.append(elt)"
   ]
  },
  {
   "cell_type": "code",
   "execution_count": null,
   "metadata": {},
   "outputs": [],
   "source": [
    "def defiler(self):\n",
    "    if not self.p2:\n",
    "        while self.p1:\n",
    "            self.p2.append(self.p1.pop())\n",
    "    if self.p2:\n",
    "        return self.p2.pop()\n",
    "    else:\n",
    "        return None "
   ]
  }
 ],
 "metadata": {
  "kernelspec": {
   "display_name": "Python 3",
   "language": "python",
   "name": "python3"
  },
  "language_info": {
   "codemirror_mode": {
    "name": "ipython",
    "version": 3
   },
   "file_extension": ".py",
   "mimetype": "text/x-python",
   "name": "python",
   "nbconvert_exporter": "python",
   "pygments_lexer": "ipython3",
   "version": "3.12.1"
  }
 },
 "nbformat": 4,
 "nbformat_minor": 2
}
