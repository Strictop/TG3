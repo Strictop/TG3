{
 "cells": [
  {
   "cell_type": "code",
   "execution_count": 68,
   "metadata": {},
   "outputs": [],
   "source": [
    "class Cellule:\n",
    "    def __init__(self, valeur, suivante):\n",
    "        self.valeur = valeur\n",
    "        self.suivante = suivante\n",
    "    \n",
    "    def __repr__(self):\n",
    "        return str(self.valeur)\n",
    "    \n",
    "class PListe:\n",
    "    def __init__(self):\n",
    "        \"\"\"Crée une liste VIDE\"\"\"\n",
    "        self.tete = None\n",
    "        \n",
    "    def insere(self, valeur):\n",
    "        \"\"\"Insère une valeur (en tant qu'instance de\n",
    "        la classe Cellule) EN TÊTE de liste\"\"\"\n",
    "        self.tete = Cellule(valeur, self.tete)\n",
    "    def est_vide(self):\n",
    "        return self.tete is None\n",
    "    \n",
    "    def longueur(self):\n",
    "        if self.est_vide():\n",
    "            return 0\n",
    "        else:\n",
    "            cellule = self.tete\n",
    "            long = 1\n",
    "            while cellule.suivante is not None:\n",
    "                long += 1\n",
    "                cellule = cellule.suivante\n",
    "            return long\n"
   ]
  },
  {
   "cell_type": "markdown",
   "metadata": {},
   "source": [
    "1. D’après le code ci-contre, donner l’instruction permettant de créer une liste\n",
    "vide nommée pliv :"
   ]
  },
  {
   "cell_type": "code",
   "execution_count": 69,
   "metadata": {},
   "outputs": [],
   "source": [
    "pliv = PListe()"
   ]
  },
  {
   "cell_type": "markdown",
   "metadata": {},
   "source": [
    "2. Peut-on créer une liste ayant d’emblée une valeur ? Si oui, comment ?"
   ]
  },
  {
   "cell_type": "code",
   "execution_count": 70,
   "metadata": {},
   "outputs": [],
   "source": [
    "pliv = PListe()\n",
    "pliv.tete = \"valeur\""
   ]
  },
  {
   "cell_type": "markdown",
   "metadata": {},
   "source": [
    "3. Donner les instructions pour créer la liste chaînée représentée ci-dessous (le symbole représente None ) :"
   ]
  },
  {
   "cell_type": "code",
   "execution_count": 71,
   "metadata": {},
   "outputs": [],
   "source": [
    "pliv = PListe()\n",
    "pliv.insere(30)\n",
    "pliv.insere(20)\n",
    "pliv.insere(10)"
   ]
  },
  {
   "cell_type": "markdown",
   "metadata": {},
   "source": [
    "4. En vous inspirant du code fourni, définir une méthode nommée ieme_element, qui viendra enrichir\n",
    "la classe PListe, qui prendra un paramètre entier i et renverra la valeur de la cellule en ième position\n",
    "à partir de la tête de la liste (les positions seront comptées àpartirde1). Vous prendrez la précaution\n",
    "de vérifier à l’aide d’une assertion que cette ième position existe bien!"
   ]
  },
  {
   "cell_type": "code",
   "execution_count": 72,
   "metadata": {},
   "outputs": [],
   "source": [
    "class Cellule:\n",
    "    def __init__(self, valeur, suivante):\n",
    "        self.valeur = valeur\n",
    "        self.suivante = suivante\n",
    "    \n",
    "    def __repr__(self):\n",
    "        return str(self.valeur)\n",
    "    \n",
    "class PListe:\n",
    "    def __init__(self):\n",
    "        \"\"\"Crée une liste VIDE\"\"\"\n",
    "        self.tete = None\n",
    "        \n",
    "    def insere(self, valeur):\n",
    "        \"\"\"Insère une valeur (en tant qu'instance de\n",
    "        la classe Cellule) EN TÊTE de liste\"\"\"\n",
    "        self.tete = Cellule(valeur, self.tete)\n",
    "        \n",
    "    def est_vide(self):\n",
    "        return self.tete is None\n",
    "    \n",
    "    def longueur(self):\n",
    "        if self.est_vide():\n",
    "            return 0\n",
    "        else:\n",
    "            cellule = self.tete\n",
    "            long = 1\n",
    "            while cellule.suivante is not None:\n",
    "                long += 1\n",
    "                cellule = cellule.suivante\n",
    "            return long\n",
    "    \n",
    "    def ieme_element(self,i):\n",
    "        assert 1 <= i and i <= self.longueur(), \"La valuer {i} n'existe pas dans la liste\"\n",
    "        cellule = self.tete\n",
    "        for loop in range(i-1):\n",
    "            cellule = cellule.suivante\n",
    "        return cellule\n",
    "    \n"
   ]
  },
  {
   "cell_type": "code",
   "execution_count": 73,
   "metadata": {},
   "outputs": [],
   "source": [
    "pli = PListe()\n",
    "pli.insere(30)\n",
    "pli.insere(20)\n",
    "pli.insere(10)"
   ]
  },
  {
   "cell_type": "code",
   "execution_count": 74,
   "metadata": {},
   "outputs": [
    {
     "data": {
      "text/plain": [
       "10"
      ]
     },
     "execution_count": 74,
     "metadata": {},
     "output_type": "execute_result"
    }
   ],
   "source": [
    "pli.ieme_element(1)"
   ]
  },
  {
   "cell_type": "markdown",
   "metadata": {},
   "source": [
    "5. Donner ci-dessous le code le la méthode depile, qui viendra elle aussi enrichir la classe PListe. Elle\n",
    "dépilera l’élément de tête, c’est-à-dire qu’elle supprimera la cellule de tête et renverra sa valeur."
   ]
  },
  {
   "cell_type": "code",
   "execution_count": 75,
   "metadata": {},
   "outputs": [],
   "source": [
    "class Cellule:\n",
    "    def __init__(self, valeur, suivante):\n",
    "        self.valeur = valeur\n",
    "        self.suivante = suivante\n",
    "    \n",
    "    def __repr__(self):\n",
    "        return str(self.valeur)\n",
    "    \n",
    "class PListe:\n",
    "    def __init__(self):\n",
    "        \"\"\"Crée une liste VIDE\"\"\"\n",
    "        self.tete = None\n",
    "        \n",
    "    def insere(self, valeur):\n",
    "        \"\"\"Insère une valeur (en tant qu'instance de\n",
    "        la classe Cellule) EN TÊTE de liste\"\"\"\n",
    "        self.tete = Cellule(valeur, self.tete)\n",
    "    def est_vide(self):\n",
    "        return self.tete is None\n",
    "    \n",
    "    def longueur(self):\n",
    "        if self.est_vide():\n",
    "            return 0\n",
    "        else:\n",
    "            cellule = self.tete\n",
    "            long = 1\n",
    "            while cellule.suivante is not None:\n",
    "                long += 1\n",
    "                cellule = cellule.suivante\n",
    "            return long\n",
    "    \n",
    "    def ieme_element(self,i):\n",
    "        assert 1 <= i and i <= self.longueur(), \"La valuer {i} n'existe pas dans la liste\"\n",
    "        cellule = self.tete\n",
    "        for loop in range(i-1):\n",
    "            cellule = cellule.suivante\n",
    "        return cellule\n",
    "    \n",
    "    def depile(self):\n",
    "        depiler = Cellule(self.tete, self.tete.suivante)\n",
    "        self.tete = self.tete.suivante\n",
    "        return depiler\n",
    "    \n"
   ]
  },
  {
   "cell_type": "code",
   "execution_count": 76,
   "metadata": {},
   "outputs": [],
   "source": [
    "def depile(self):\n",
    "    depiler = Cellule(self.tete, self.tete.suivante)\n",
    "    self.tete = self.tete.suivante\n",
    "    return depiler"
   ]
  },
  {
   "cell_type": "code",
   "execution_count": 77,
   "metadata": {},
   "outputs": [],
   "source": [
    "pli = PListe()\n",
    "pli.insere(30)\n",
    "pli.insere(20)\n",
    "pli.insere(10)"
   ]
  },
  {
   "cell_type": "code",
   "execution_count": 78,
   "metadata": {},
   "outputs": [
    {
     "data": {
      "text/plain": [
       "10"
      ]
     },
     "execution_count": 78,
     "metadata": {},
     "output_type": "execute_result"
    }
   ],
   "source": [
    "pli.depile()"
   ]
  },
  {
   "cell_type": "markdown",
   "metadata": {},
   "source": [
    "6. Écrire une méthode affichage qui viendra enrichir la classe PListe. Elle n’aura aucun paramètre et\n",
    "son appel provoquera l’affichage de la pile tel qu’encadré ci-dessus.\n",
    "Indication:utilisez les méthodes de chaînes de caractères ljust (left justify) et rjust (right justify) :\n",
    "'1'.ljust(2) + ':' donnera la chaîne '1 :' (notez l’espace ajouté si nécessaire pour avoir exac-\n",
    "tement 2 caractères avant le « : ») et si valeur = 1.234, str(valeur).rjust(10) donnera la chaîne\n",
    "' 1.234' (une chaîne de 10 caractères précisément,avec autant d’espaces en tête que nécessaire)"
   ]
  },
  {
   "cell_type": "code",
   "execution_count": 79,
   "metadata": {},
   "outputs": [],
   "source": [
    "def affichage(self):\n",
    "    resultat = []\n",
    "    for i in range(self.longueur()):\n",
    "        resultat += f\"{self.longueur() - i}+{str(self.ieme_element(self.longueur() - i)).rjust(8)}\\n\""
   ]
  },
  {
   "cell_type": "code",
   "execution_count": 80,
   "metadata": {},
   "outputs": [],
   "source": [
    "class Cellule:\n",
    "    def __init__(self, valeur, suivante):\n",
    "        self.valeur = valeur\n",
    "        self.suivante = suivante\n",
    "    \n",
    "    def __repr__(self):\n",
    "        return str(self.valeur)\n",
    "    \n",
    "class PListe:\n",
    "    def __init__(self):\n",
    "        \"\"\"Crée une liste VIDE\"\"\"\n",
    "        self.tete = None\n",
    "        \n",
    "    def insere(self, valeur):\n",
    "        \"\"\"Insère une valeur (en tant qu'instance de\n",
    "        la classe Cellule) EN TÊTE de liste\"\"\"\n",
    "        self.tete = Cellule(valeur, self.tete)\n",
    "    \n",
    "    def ieme_element(self,i):\n",
    "        assert 1 <= i and i <= self.longueur(), \"La valuer {i} n'existe pas dans la liste\"\n",
    "        cellule = self.tete\n",
    "        for loop in range(i-1):\n",
    "            cellule = cellule.suivante\n",
    "        return cellule\n",
    "    \n",
    "    def depile(self):\n",
    "        depiler = Cellule(self.tete, self.tete.suivante)\n",
    "        self.tete = self.tete.suivante\n",
    "        return depiler\n",
    "    \n",
    "    def affichage(self):\n",
    "        resultat = \"\"\n",
    "        for i in range(self.longueur()):\n",
    "            resultat += f\"{self.longueur() - i}: {str(self.ieme_element(self.longueur() - i)).rjust(10)}\\n\"\n",
    "        print(resultat)\n",
    "    \n",
    "    def est_vide(self):\n",
    "        return self.tete is None\n",
    "    \n",
    "    def longueur(self):\n",
    "        if self.est_vide():\n",
    "            return 0\n",
    "        else:\n",
    "            cellule = self.tete\n",
    "            long = 1\n",
    "            while cellule.suivante is not None:\n",
    "                long += 1\n",
    "                cellule = cellule.suivante\n",
    "            return long"
   ]
  },
  {
   "cell_type": "code",
   "execution_count": 81,
   "metadata": {},
   "outputs": [],
   "source": [
    "pli = PListe()\n",
    "pli.insere(30)\n",
    "pli.insere(20)\n",
    "pli.insere(10)"
   ]
  },
  {
   "cell_type": "code",
   "execution_count": 82,
   "metadata": {},
   "outputs": [
    {
     "name": "stdout",
     "output_type": "stream",
     "text": [
      "3:         30\n",
      "2:         20\n",
      "1:         10\n",
      "\n"
     ]
    }
   ],
   "source": [
    "pli.affichage()"
   ]
  },
  {
   "cell_type": "markdown",
   "metadata": {},
   "source": [
    "7. Implémenter une méthode neg, qui change le signe de la valeur située en tête de pile (aucun paramètre,\n",
    "aucune valeur de retour)"
   ]
  },
  {
   "cell_type": "code",
   "execution_count": 83,
   "metadata": {},
   "outputs": [],
   "source": [
    "class Cellule:\n",
    "    def __init__(self, valeur, suivante):\n",
    "        self.valeur = valeur\n",
    "        self.suivante = suivante\n",
    "    \n",
    "    def __repr__(self):\n",
    "        return str(self.valeur)\n",
    "    \n",
    "class PListe:\n",
    "    def __init__(self):\n",
    "        \"\"\"Crée une liste VIDE\"\"\"\n",
    "        self.tete = None\n",
    "        \n",
    "    def insere(self, valeur):\n",
    "        \"\"\"Insère une valeur (en tant qu'instance de\n",
    "        la classe Cellule) EN TÊTE de liste\"\"\"\n",
    "        self.tete = Cellule(valeur, self.tete)\n",
    "        \n",
    "    def est_vide(self):\n",
    "        return self.tete is None\n",
    "    \n",
    "    def longueur(self):\n",
    "        if self.est_vide():\n",
    "            return 0\n",
    "        else:\n",
    "            cellule = self.tete\n",
    "            long = 1\n",
    "            while cellule.suivante is not None:\n",
    "                long += 1\n",
    "                cellule = cellule.suivante\n",
    "            return long\n",
    "    \n",
    "    def ieme_element(self,i):\n",
    "        assert 1 <= i and i <= self.longueur(), \"La valuer {i} n'existe pas dans la liste\"\n",
    "        cellule = self.tete\n",
    "        for loop in range(i-1):\n",
    "            cellule = cellule.suivante\n",
    "        return cellule\n",
    "    \n",
    "    def depile(self):\n",
    "        depiler = Cellule(self.tete, self.tete.suivante)\n",
    "        self.tete = self.tete.suivante\n",
    "        return depiler\n",
    "    \n",
    "    def affichage(self):\n",
    "        resultat = \"\"\n",
    "        for i in range(self.longueur()):\n",
    "            resultat += f\"{self.longueur() - i}: {str(self.ieme_element(self.longueur() - i)).rjust(10)}\\n\"\n",
    "        print(resultat)\n",
    "        \n",
    "    def neg(self):\n",
    "        self.tete = Cellule(int(f\"-{self.ieme_element(1)}\"), self.tete.suivante)   \n",
    "    \n"
   ]
  },
  {
   "cell_type": "code",
   "execution_count": 84,
   "metadata": {},
   "outputs": [],
   "source": [
    "def neg(self):\n",
    "    self.tete = Cellule(int(f\"`-{self.ieme_position(1)}\"), self.tete.suivante)"
   ]
  },
  {
   "cell_type": "code",
   "execution_count": 85,
   "metadata": {},
   "outputs": [],
   "source": [
    "pli = PListe()\n",
    "pli.insere(30)\n",
    "pli.insere(20)\n",
    "pli.insere(10)"
   ]
  },
  {
   "cell_type": "code",
   "execution_count": 86,
   "metadata": {},
   "outputs": [
    {
     "data": {
      "text/plain": [
       "-10"
      ]
     },
     "execution_count": 86,
     "metadata": {},
     "output_type": "execute_result"
    }
   ],
   "source": [
    "pli.neg()\n",
    "pli.ieme_element(1)"
   ]
  },
  {
   "cell_type": "markdown",
   "metadata": {},
   "source": [
    "8. Implémenter une méthode plus, qui ajoute les éléments présents sur les deux premiers niveaux de la\n",
    "pile et place le résultat sur le sommet de la pile (aucun paramètre, aucune valeur de retour).\n",
    "Important:utiliser une assertion pour gérer le cas où la pile n’a pas une taille adaptée"
   ]
  },
  {
   "cell_type": "code",
   "execution_count": 87,
   "metadata": {},
   "outputs": [],
   "source": [
    "class Cellule:\n",
    "    def __init__(self, valeur, suivante):\n",
    "        self.valeur = valeur\n",
    "        self.suivante = suivante\n",
    "    \n",
    "    def __repr__(self):\n",
    "        return str(self.valeur)\n",
    "    \n",
    "class PListe:\n",
    "    def __init__(self):\n",
    "        \"\"\"Crée une liste VIDE\"\"\"\n",
    "        self.tete = None\n",
    "        \n",
    "    def insere(self, valeur):\n",
    "        \"\"\"Insère une valeur (en tant qu'instance de\n",
    "        la classe Cellule) EN TÊTE de liste\"\"\"\n",
    "        self.tete = Cellule(valeur, self.tete)\n",
    "        \n",
    "    def est_vide(self):\n",
    "        return self.tete is None\n",
    "    \n",
    "    def longueur(self):\n",
    "        if self.est_vide():\n",
    "            return 0\n",
    "        else:\n",
    "            cellule = self.tete\n",
    "            long = 1\n",
    "            while cellule.suivante is not None:\n",
    "                long += 1\n",
    "                cellule = cellule.suivante\n",
    "            return long\n",
    "    \n",
    "    def ieme_element(self,i):\n",
    "        assert 1 <= i and i <= self.longueur(), \"La valuer {i} n'existe pas dans la liste\"\n",
    "        cellule = self.tete\n",
    "        for loop in range(i-1):\n",
    "            cellule = cellule.suivante\n",
    "        return cellule\n",
    "    \n",
    "    def depile(self):\n",
    "        depiler = Cellule(self.tete, self.tete.suivante)\n",
    "        self.tete = self.tete.suivante\n",
    "        return depiler\n",
    "    \n",
    "    def affichage(self):\n",
    "        resultat = \"\"\n",
    "        for i in range(self.longueur()):\n",
    "            resultat += f\"{self.longueur() - i}: {str(self.ieme_element(self.longueur() - i)).rjust(10)}\\n\"\n",
    "        print(resultat)\n",
    "        \n",
    "    def neg(self):\n",
    "        self.tete = Cellule(int(f\"-{self.ieme_element(1)}\"), self.tete.suivante)\n",
    "    \n",
    "    def plus(self):\n",
    "        assert self.longueur() >- 2, \"la pile n’a pas une taille adaptée\"\n",
    "        addition = self.tete.valeur + self.tete.suivante.valeur\n",
    "        self.depile()\n",
    "        self.depile()\n",
    "        self.insere(addition)"
   ]
  },
  {
   "cell_type": "code",
   "execution_count": 88,
   "metadata": {},
   "outputs": [],
   "source": [
    "pli = PListe()\n",
    "pli.insere(30)\n",
    "pli.insere(20)\n",
    "pli.insere(10)"
   ]
  },
  {
   "cell_type": "code",
   "execution_count": 89,
   "metadata": {},
   "outputs": [
    {
     "name": "stdout",
     "output_type": "stream",
     "text": [
      "3:         30\n",
      "2:         20\n",
      "1:         10\n",
      "\n",
      "2:         30\n",
      "1:         30\n",
      "\n"
     ]
    }
   ],
   "source": [
    "pli.affichage()\n",
    "pli.plus()\n",
    "pli.affichage()"
   ]
  },
  {
   "cell_type": "markdown",
   "metadata": {},
   "source": [
    "9. Implémenter une méthode moins, qui soustrait les éléments présents sur les deux premiers niveaux de\n",
    "la pile (attention:niveau 2 moins niveau 1) et place le résultat sur le sommet de la pile.\n",
    "Important:utiliser une assertion pour gérer le cas où la pile n’a pas une taille adaptée."
   ]
  },
  {
   "cell_type": "code",
   "execution_count": 90,
   "metadata": {},
   "outputs": [],
   "source": [
    "class Cellule:\n",
    "    def __init__(self, valeur, suivante):\n",
    "        self.valeur = valeur\n",
    "        self.suivante = suivante\n",
    "    \n",
    "    def __repr__(self):\n",
    "        return str(self.valeur)\n",
    "    \n",
    "class PListe:\n",
    "    def __init__(self):\n",
    "        \"\"\"Crée une liste VIDE\"\"\"\n",
    "        self.tete = None\n",
    "        \n",
    "    def insere(self, valeur):\n",
    "        \"\"\"Insère une valeur (en tant qu'instance de\n",
    "        la classe Cellule) EN TÊTE de liste\"\"\"\n",
    "        self.tete = Cellule(valeur, self.tete)\n",
    "        \n",
    "    def est_vide(self):\n",
    "        return self.tete is None\n",
    "    \n",
    "    def longueur(self):\n",
    "        if self.est_vide():\n",
    "            return 0\n",
    "        else:\n",
    "            cellule = self.tete\n",
    "            long = 1\n",
    "            while cellule.suivante is not None:\n",
    "                long += 1\n",
    "                cellule = cellule.suivante\n",
    "            return long\n",
    "    \n",
    "    def ieme_element(self,i):\n",
    "        assert 1 <= i and i <= self.longueur(), \"La valuer {i} n'existe pas dans la liste\"\n",
    "        cellule = self.tete\n",
    "        for loop in range(i-1):\n",
    "            cellule = cellule.suivante\n",
    "        return cellule\n",
    "    \n",
    "    def depile(self):\n",
    "        depiler = Cellule(self.tete, self.tete.suivante)\n",
    "        self.tete = self.tete.suivante\n",
    "        return depiler\n",
    "    \n",
    "    def affichage(self):\n",
    "        resultat = \"\"\n",
    "        for i in range(self.longueur()):\n",
    "            resultat += f\"{self.longueur() - i}: {str(self.ieme_element(self.longueur() - i)).rjust(10)}\\n\"\n",
    "        print(resultat)\n",
    "        \n",
    "    def neg(self):\n",
    "        self.tete = Cellule(int(f\"-{self.ieme_element(1)}\"), self.tete.suivante)\n",
    "    \n",
    "    def plus(self):\n",
    "        assert self.longueur() >- 2, \"la pile n’a pas une taille adaptée\"\n",
    "        addition = self.tete.valeur + self.tete.suivante.valeur\n",
    "        self.depile()\n",
    "        self.depile()\n",
    "        self.insere(addition)\n",
    "    \n",
    "    def moins(self):\n",
    "        assert self.longueur() >- 2, \"la pile est trop petite\"\n",
    "        soustraction = self.tete.suivante.valeur + self.tete.valeur\n",
    "        self.depile()\n",
    "        self.depile()\n",
    "        self.insere(soustraction)"
   ]
  },
  {
   "cell_type": "code",
   "execution_count": 91,
   "metadata": {},
   "outputs": [],
   "source": [
    "pli = PListe()\n",
    "pli.insere(30)\n",
    "pli.insere(20)\n",
    "pli.insere(10)"
   ]
  },
  {
   "cell_type": "code",
   "execution_count": 92,
   "metadata": {},
   "outputs": [
    {
     "name": "stdout",
     "output_type": "stream",
     "text": [
      "3:         30\n",
      "2:         20\n",
      "1:         10\n",
      "\n",
      "2:         30\n",
      "1:         30\n",
      "\n"
     ]
    }
   ],
   "source": [
    "pli.affichage()\n",
    "pli.moins()\n",
    "pli.affichage()"
   ]
  },
  {
   "cell_type": "markdown",
   "metadata": {},
   "source": [
    "10. Dessiner l’affichage provoqué par la succession d’instructions suivantes (vous pourrez imiter la présen-\n",
    "tation de la page 2, ou les affichages sont l’un à côté de l’autre; inutile de les encadrer!). Vous prendrez\n",
    "soin de préciser clairement les numéros des lignes correspondant aux affichages."
   ]
  },
  {
   "cell_type": "code",
   "execution_count": 93,
   "metadata": {},
   "outputs": [
    {
     "name": "stdout",
     "output_type": "stream",
     "text": [
      "1:          5\n",
      "\n",
      "2:          5\n",
      "1:          2\n",
      "\n",
      "3:          5\n",
      "2:          2\n",
      "1:          7\n",
      "\n",
      "3:          5\n",
      "2:          2\n",
      "1:         -7\n",
      "\n",
      "2:          5\n",
      "1:         -5\n",
      "\n",
      "1:          0\n",
      "\n"
     ]
    }
   ],
   "source": [
    "rpl = PListe()\n",
    "rpl.insere(5)\n",
    "rpl.affichage()\n",
    "rpl.insere(2)\n",
    "rpl.affichage()\n",
    "rpl.insere(7)\n",
    "rpl.affichage()\n",
    "rpl.neg()\n",
    "rpl.affichage()\n",
    "rpl.plus()\n",
    "rpl.affichage()\n",
    "rpl.moins()\n",
    "rpl.affichage()"
   ]
  }
 ],
 "metadata": {
  "kernelspec": {
   "display_name": "Python 3",
   "language": "python",
   "name": "python3"
  },
  "language_info": {
   "codemirror_mode": {
    "name": "ipython",
    "version": 3
   },
   "file_extension": ".py",
   "mimetype": "text/x-python",
   "name": "python",
   "nbconvert_exporter": "python",
   "pygments_lexer": "ipython3",
   "version": "3.12.1"
  }
 },
 "nbformat": 4,
 "nbformat_minor": 2
}
