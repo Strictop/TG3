{
 "cells": [
  {
   "cell_type": "code",
   "execution_count": 1,
   "metadata": {},
   "outputs": [],
   "source": [
    "class Cellule:\n",
    "    def __init__(self, valeur, suivante):\n",
    "        self.valeur = valeur\n",
    "        self.suivante = suivante\n",
    "    \n",
    "    def __repr__(self):\n",
    "        return str(self.valeur)\n",
    "    \n",
    "    class PListe:\n",
    "        def __init__(self):\n",
    "            \"\"\"Crée une liste VIDE\"\"\"\n",
    "            self.tete = None\n",
    "            \n",
    "        def insere(self, valeur):\n",
    "            \"\"\"Insère une valeur (en tant qu'instance de\n",
    "            la classe Cellule) EN TÊTE de liste\"\"\"\n",
    "            self.tete = Cellule(valeur, self.tete)\n",
    "            \n",
    "        def est_vide(self):\n",
    "            return self.tete is None\n",
    "        \n",
    "        def longueur(self):\n",
    "            if self.est_vide():\n",
    "                return 0\n",
    "            else:\n",
    "                cellule = self.tete\n",
    "                long = 1\n",
    "                while cellule.suivante is not None:\n",
    "                    long += 1\n",
    "                    cellule = cellule.suivante\n",
    "                return long"
   ]
  },
  {
   "cell_type": "markdown",
   "metadata": {},
   "source": [
    "1. D’après le code ci-contre, donner l’instruction permettant de créer une liste\n",
    "vide nommée pliv :"
   ]
  },
  {
   "cell_type": "code",
   "execution_count": null,
   "metadata": {},
   "outputs": [],
   "source": []
  }
 ],
 "metadata": {
  "kernelspec": {
   "display_name": "Python 3",
   "language": "python",
   "name": "python3"
  },
  "language_info": {
   "codemirror_mode": {
    "name": "ipython",
    "version": 3
   },
   "file_extension": ".py",
   "mimetype": "text/x-python",
   "name": "python",
   "nbconvert_exporter": "python",
   "pygments_lexer": "ipython3",
   "version": "3.12.1"
  }
 },
 "nbformat": 4,
 "nbformat_minor": 2
}
