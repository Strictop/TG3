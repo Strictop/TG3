{
 "cells": [
  {
   "cell_type": "markdown",
   "metadata": {},
   "source": [
    "## Application : gestion d'un compte bancaire :\n",
    "\n",
    "Le but est de définir une classe CompteBancaire qui permette :\n",
    "\n",
    "- d’instancier des objets tels que compte1,compte2, ... .\n",
    "> Ces objets \"compte\" auront deux attributs : nom (= titulaire du compte) et solde (= argent sur le compte) ;\n",
    "\n",
    "- de connaître le nom du titulaire d'un compte, ainsi que la somme présente sur ce compte ;\n",
    "    \n",
    "- de gérer les transferts d'argent sur le compte en \"sécurité\" et même de créer une méthode \"protégée\" pour pirater un compte.\n",
    "\n",
    "<h3 class='fa fa-code' style=\"color: darkorange\"> A coder vous même :</h3>\n",
    "\n",
    "- ~~Créez la classe CompteBancaire.~~\n",
    "\n",
    "- ~~Créez le constructeur de cette classe en faisant en sorte qu'un nouveau compte s'ouvre par défaut avec 0 euro dessus.~~\n",
    "\n",
    "- ~~Créez les accesseurs à chacun des deux attributs des objets de la classe.~~\n",
    "\n",
    "- ~~Créez un mutateur privé qui permet de faire évoluer la somme placée sur un compte de variation euros.~~\n",
    "\n",
    "- ~~Rajoutez à ce mutateur un test qui permet d'afficher un message si le compte est à découvert à l'issue de la modification.~~\n",
    "\n",
    "- ~~Créez une méthode depot qui utilise le mutateur privé précédent pour ajouter une certaine somme sur un compte bancaire.~~\n",
    "\n",
    "- ~~Créez une méthode retrait qui utilise le mutateur privé précédent pour retirer une certaine somme sur un compte bancaire.~~\n",
    "\n",
    "- Testez cette méthode retrait de sorte qu'un compte passe dans le négatif. Est-ce que l'affichage prévu dans le mutateur privé gérant l'attribut solde s'affiche lors de l'utilisation de cette méthode publique ?\n",
    "\n",
    "- Créez une méthode afficher qui affiche le nom du titualire et le solde de son compte.\n",
    "\n",
    "- Créez un mutateur privé qui permette de changer le nom du titulaire.\n",
    "\n",
    "- Créez une méthode protégée _pirater qui utilise le mutateur précédent et qui permet de changer le nom du titulaire d'un compte bancaire.\n",
    "\n",
    "- Utilisez cette méthode _pirater pour vous attribuer un compte bancaire.\n",
    "\n",
    "Utiliser l'instruction help(CompteBancaire) afin de visualiser l'ensemble des méthodes visibles facilement par l'utilisateur du code.\n",
    "\n",
    "Un client peut-il facilement être au courant de la présence de cette méthode protégée _pirater ?"
   ]
  },
  {
   "cell_type": "code",
   "execution_count": 23,
   "metadata": {},
   "outputs": [],
   "source": [
    "class CompteBancaire:\n",
    "    def __init__(self, nom, solde=0):\n",
    "        self.__nom = nom\n",
    "        self.__solde = solde\n",
    "\n",
    "# Accesseur pour le nom du titulaire\n",
    "    def get_nom(self):\n",
    "        return self.__nom\n",
    "    \n",
    "# Acceseur pour le solde du compte bancaire:\n",
    "    def get_solde(self):\n",
    "        return self.__solde\n",
    "    \n",
    "# mutateur privé qui permet de modifier le solde avec une variation en euros\n",
    "    def __modifier_solde(self, variation):\n",
    "        self.__solde += variation\n",
    "        if self.__solde < 0:\n",
    "            print(\"Tu vas avoir des problèmes aves le Fisc...\")\n",
    "            \n",
    "# Methode pour faire  un dépot d'argent \n",
    "    def depot(self, montant):\n",
    "        if montant > 0:\n",
    "            self.__modifier_solde(montant)\n",
    "        else:\n",
    "            print(\"Le montant de dépot doit etre positif.\")\n",
    "\n",
    "# Methode pour faire un retrait d'argent\n",
    "    def retrait(self, montant):\n",
    "        if montant >0:\n",
    "            self.__modifier_solde(-montant)\n",
    "        else:\n",
    "            print(\"Le montant de retrait doit etre positif.\")\n",
    "            \n",
    "# Methode pour afficher le titulaire du compte et le solde\n",
    "    def afficher(self):\n",
    "        print(f\"Titulaire : {self.__nom}, Solde : {self.__solde} euros\")\n",
    "\n",
    "# Mutateur privé pour changer le nom du titulaire du compte:\n",
    "    def __changer_nom(self, nouveau_nom):\n",
    "        self.__nom = nouveau_nom\n",
    "\n",
    "# Méthode protégée pour \"pirater\" le compte et changer le nom du titulaire\n",
    "    def _pirater(self, nouveau_nom):\n",
    "        self.__changer_nom(nouveau_nom)"
   ]
  },
  {
   "cell_type": "code",
   "execution_count": 24,
   "metadata": {},
   "outputs": [
    {
     "name": "stdout",
     "output_type": "stream",
     "text": [
      "Titulaire : Pierr0tw, Solde : 0 euros\n"
     ]
    }
   ],
   "source": [
    "# Test de la class\n",
    "compte1 = CompteBancaire(\"Pierr0tw\")\n",
    "compte1.afficher()"
   ]
  },
  {
   "cell_type": "code",
   "execution_count": 29,
   "metadata": {},
   "outputs": [
    {
     "name": "stdout",
     "output_type": "stream",
     "text": [
      "Titulaire : hackerrrrrrrrrrrr, Solde : 22222222222004 euros\n"
     ]
    }
   ],
   "source": [
    "# Depot d'argent\n",
    "compte1.depot(22222222222222)\n",
    "compte1.afficher()"
   ]
  },
  {
   "cell_type": "code",
   "execution_count": 30,
   "metadata": {},
   "outputs": [
    {
     "name": "stdout",
     "output_type": "stream",
     "text": [
      "Titulaire : hackerrrrrrrrrrrr, Solde : 22222222222004 euros\n"
     ]
    }
   ],
   "source": [
    "compte1.afficher()"
   ]
  },
  {
   "cell_type": "code",
   "execution_count": 33,
   "metadata": {},
   "outputs": [
    {
     "name": "stdout",
     "output_type": "stream",
     "text": [
      "Le montant de retrait doit etre positif.\n",
      "Titulaire : hackerrrrrrrrrrrr, Solde : 22222222221774 euros\n"
     ]
    }
   ],
   "source": [
    "# Retrait d'argent\n",
    "compte1.retrait(-9999999999999230)\n",
    "compte1.afficher()"
   ]
  },
  {
   "cell_type": "code",
   "execution_count": 34,
   "metadata": {},
   "outputs": [
    {
     "name": "stdout",
     "output_type": "stream",
     "text": [
      "Titulaire : hackerrrrrrrrrrrr, Solde : 22222222221774 euros\n"
     ]
    }
   ],
   "source": [
    "compte1._pirater(\"hackerrrrrrrrrrrr\")\n",
    "compte1.afficher()"
   ]
  },
  {
   "cell_type": "code",
   "execution_count": null,
   "metadata": {},
   "outputs": [],
   "source": []
  },
  {
   "cell_type": "code",
   "execution_count": null,
   "metadata": {},
   "outputs": [],
   "source": []
  },
  {
   "cell_type": "code",
   "execution_count": null,
   "metadata": {},
   "outputs": [],
   "source": [
    "help(CompteBancaire)"
   ]
  },
  {
   "cell_type": "code",
   "execution_count": null,
   "metadata": {},
   "outputs": [],
   "source": []
  }
 ],
 "metadata": {
  "kernelspec": {
   "display_name": "Python 3",
   "language": "python",
   "name": "python3"
  },
  "language_info": {
   "codemirror_mode": {
    "name": "ipython",
    "version": 3
   },
   "file_extension": ".py",
   "mimetype": "text/x-python",
   "name": "python",
   "nbconvert_exporter": "python",
   "pygments_lexer": "ipython3",
   "version": "3.12.1"
  }
 },
 "nbformat": 4,
 "nbformat_minor": 2
}
