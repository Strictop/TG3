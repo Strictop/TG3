{
 "cells": [
  {
   "cell_type": "code",
   "execution_count": 4,
   "metadata": {
    "trusted": true
   },
   "outputs": [],
   "source": [
    "class Yaourt :\n",
    "    \n",
    "    def __init__(self,arome,duree) :\n",
    "        \n",
    "        # Assertions : question 1.a.\n",
    "        assert arome in ['fraise', 'abricot', 'vanille', 'aucun'], \"Cet arome est inconnu\"\n",
    "        assert 1 <= duree <= 365, \"La durée doit être comprise entre 1 et 365\"\n",
    "        \n",
    "        self.__arome = arome\n",
    "        self.__duree = duree\n",
    "        if arome == 'aucun' :\n",
    "            self.__genre = 'nature'\n",
    "        else :\n",
    "            self.__genre = 'aromatise'\n",
    "    \n",
    "    # Méthode GetArome(self) question 1.c.\n",
    "    def GetArome(self) :        \n",
    "        return (self.__arome)\n",
    "    \n",
    "    def GetDuree(self):\n",
    "        return(self.__duree)\n",
    "\n",
    "    def GetGenre(self):\n",
    "        return (self.__genre)\n",
    "    \n",
    "    # Mutateur de durée\n",
    "    def SetDuree(self,duree) :\n",
    "        if 1 <= duree <= 365:\n",
    "            self.__duree = duree\n",
    "        else:\n",
    "            raise ValueError(\"La durée doit n'est pas comprise entre 1 et 365\")\n",
    "            \n",
    "    # Mutateur d’arôme SetArome(self,arome) - question 2.\n",
    "    def SetArome(self, arome) :\n",
    "        assert arome in ['fraise', 'abricot', 'vanille', 'aucun'], \"Cet arome est inconnu\"\n",
    "        \n",
    "        self.__arome = arome\n",
    "        self.__SetGenre(arome)\n",
    "\n",
    "\n",
    "    def __SetGenre(self,arome):\n",
    "        if arome == 'aucun':\n",
    "            self.__genre = 'nature'\n",
    "        else:\n",
    "            self.__genre = 'aromatise'\n",
    "\n"
   ]
  },
  {
   "cell_type": "code",
   "execution_count": 5,
   "metadata": {
    "trusted": false
   },
   "outputs": [],
   "source": [
    "def creer_pile():\n",
    "    pile = [ ]\n",
    "    return pile\n",
    "\n",
    "# 3.a)\n",
    "def empiler(p, Yaourt):\n",
    "    p.append(Yaourt)\n",
    "    return p\n",
    "    \n",
    "\n",
    "# 3.b)\n",
    "def depiler(p):\n",
    "    assert not estVide(p), \"Pile vide\"\n",
    "    return p.pop()\n",
    "    \n",
    "    \n",
    "# 3.c)\n",
    "def estVide(p):\n",
    "    return p==[]\n",
    "\n",
    "\n"
   ]
  },
  {
   "cell_type": "code",
   "execution_count": 6,
   "metadata": {
    "trusted": false
   },
   "outputs": [
    {
     "name": "stdout",
     "output_type": "stream",
     "text": [
      "24\n",
      "False\n"
     ]
    }
   ],
   "source": [
    "mon_Yaourt1 = Yaourt('aucun',18)\n",
    "mon_Yaourt2 = Yaourt('fraise',24)\n",
    "ma_pile = creer_pile()\n",
    "empiler(ma_pile, mon_Yaourt1)\n",
    "empiler(ma_pile, mon_Yaourt2)\n",
    "print(depiler(ma_pile).GetDuree())\n",
    "print(estVide(ma_pile))"
   ]
  }
 ],
 "metadata": {
  "kernelspec": {
   "display_name": "Python 3",
   "language": "python",
   "name": "python3"
  },
  "language_info": {
   "codemirror_mode": {
    "name": "ipython",
    "version": 3
   },
   "file_extension": ".py",
   "mimetype": "text/x-python",
   "name": "python",
   "nbconvert_exporter": "python",
   "pygments_lexer": "ipython3",
   "version": "3.12.1"
  }
 },
 "nbformat": 4,
 "nbformat_minor": 2
}
