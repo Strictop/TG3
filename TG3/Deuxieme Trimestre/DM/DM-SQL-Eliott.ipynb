{
 "cells": [
  {
   "cell_type": "markdown",
   "metadata": {},
   "source": [
    "### Exercice classique : la bibliothèque\n",
    "\n",
    "1. Quelles sont les anomalies dans le schéma précédent ?  \n",
    "Le titre du livre apparait en double"
   ]
  }
 ],
 "metadata": {
  "kernelspec": {
   "display_name": "Python 3",
   "language": "python",
   "name": "python3"
  },
  "language_info": {
   "name": "python",
   "version": "3.12.1"
  }
 },
 "nbformat": 4,
 "nbformat_minor": 2
}
