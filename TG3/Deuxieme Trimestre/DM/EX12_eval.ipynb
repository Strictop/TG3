{
 "cells": [
  {
   "cell_type": "markdown",
   "metadata": {},
   "source": [
    "**Exerice 2**\n",
    "1 a) Mohamed Ali et Fernando Alonso  \n",
    "  b) Harry Kane  \n",
    "\n",
    "2 a) SELECT nom, prenom FROM Membre WHERE cp = \"69003\" ;  \n",
    "|nom |prenom|\n",
    "|---    |:-:    |\n",
    "|  Dupont     |    Antoine   |\n",
    "|   Kane    |    Harry   |  \n",
    "\n",
    "2 b) SELECT tarif FROM Objet WHERE description = \"Scie circulaire\";  \n",
    "  c) SELECT tarif FROM Objet WHERE id_objet = 5 ;  \n",
    "  d) UPDATE Objet SET tarif = 15 WHERE id_objet = 1;  \n",
    "\n",
    "3 a)"
   ]
  }
 ],
 "metadata": {
  "kernelspec": {
   "display_name": "Python 3",
   "language": "python",
   "name": "python3"
  },
  "language_info": {
   "name": "python",
   "version": "3.12.1"
  }
 },
 "nbformat": 4,
 "nbformat_minor": 2
}
