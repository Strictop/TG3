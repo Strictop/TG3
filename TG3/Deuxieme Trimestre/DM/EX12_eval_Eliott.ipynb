{
 "cells": [
  {
   "cell_type": "markdown",
   "metadata": {},
   "source": [
    "**Exerice 2**\n",
    "\n",
    "1 a) Mohamed Ali et Fernando Alonso  \n",
    "  b) Harry Kane  \n",
    "\n",
    "2 a) SELECT nom, prenom FROM Membre WHERE cp = \"69003\" ;  \n",
    "|nom |prenom|\n",
    "|---    |:-:    |\n",
    "|  Dupont     |    Antoine   |\n",
    "|   Kane    |    Harry   |  \n",
    "\n",
    "2 b) SELECT tarif FROM Objet WHERE description = \"Scie circulaire\";  \n",
    "  c) SELECT tarif FROM Objet WHERE id_objet = 5 ;  \n",
    "  d) UPDATE Objet SET tarif = 15 WHERE id_objet = 1;  \n",
    "\n",
    "3 a) Si (id_objet, id_membre) etait la clé primaire de la table Reservation alors un meme mebre ne pourrait réserver un objet qu'une seukle fois empechant donc la location du meme materiel dans un meme temps. Cela bloquerait possiblement fortement le service rendant donc impossible les réservations répétées.\n",
    "\n",
    "3 b) L'erreur vient du fait que Mohamed Ali (id_membre = 1) a encore des references dans la table Reservation et Possede. Ces references empechent la supression de la table membre.\n",
    "\n",
    "3 c) Il faut supprimer d'abord les réservations de la table Reservation:  \n",
    "      ```  \n",
    "      DELETE FROM Reservation WHERE id_membre = 1;\n",
    "      ```  \n",
    "    Ensuite il faut supprimer ce qu'il possede dans la table Possede:  \n",
    "      ```  \n",
    "      DELETE FROM Possede WHERE id_membre = 1;\n",
    "      ```  \n",
    "    Enfin nous pouvons supprimer Mohamed Ali de la table Membre:  \n",
    "      ```\n",
    "      DELETE FROM Membre WHERE id_membre = 1;\n",
    "      ```  \n",
    "\n",
    "4 a) ```\n",
    "SELECT COUNT(*) FROM Reservation \n",
    "WHERE id_membre = (SELECT id_membre FROM Membre WHERE nom = \"Alonso\" AND prenom = \"Fernando\");\n",
    "     ```  \n",
    "\n",
    "4 b) ```sql\n",
    "     SELECT Membre.nom, Membre.prenom FROM Membre\n",
    "     JOIN Possede ON Membre.id_membre = Possede.id_membre  \n",
    "     WHERE Possede.id_objet = (SELECT id_objet FROM Objet WHERE description = \"Appareil à raclette\");\n",
    "     ```"
   ]
  }
 ],
 "metadata": {
  "kernelspec": {
   "display_name": "Python 3",
   "language": "python",
   "name": "python3"
  },
  "language_info": {
   "name": "python",
   "version": "3.12.1"
  }
 },
 "nbformat": 4,
 "nbformat_minor": 2
}
