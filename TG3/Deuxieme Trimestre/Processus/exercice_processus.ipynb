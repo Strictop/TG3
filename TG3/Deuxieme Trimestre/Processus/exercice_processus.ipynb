{
 "cells": [
  {
   "cell_type": "markdown",
   "metadata": {},
   "source": [
    "Exercice 2  \n",
    "\n",
    "1)\n",
    "\n",
    "|   Numéro du périphérique    |  Adresse    |   Opération    |   Réponse de l'ordonnanceur    |\n",
    "|---    |:-:    |:-:    |:-:    |\n",
    "| 0 | 10 | écriture | OK  |\n",
    "| 1 | 11 | lecture  | OK |\n",
    "| 2 | 10 | lecture  | ATT  |\n",
    "| 3 | 10 | écriture | ATT  |\n",
    "| 0 | 12 | lecture  | OK |\n",
    "| 1 | 10 | lecture  | OK |\n",
    "| 2 | 10 | lecture  | OK |\n",
    "| 3 | 10 | écriture | ATT  |  \n",
    "\n",
    "2) Le périphérique 1 ne pourra jamais lire l'adresse 10 puisque le périphérique 0 y accède en écriture avant.\n",
    "\n",
    "3) a) Au premier tour: 0 peut écrire donc 1 ne peut pas lire  \n",
    "      Au second tour: 1 peut lire et 0 ne peut pas écrire  \n",
    "      Au troisieme tour: 0 peut écrire et 1 ne peut pas lire  \n",
    "      Au quatrieme tour: 0 peut écrirz et 1 ne peut pas lire   \n",
    "\n",
    "    b) Pendant un cycle de 4 tours 0 ecrit 3 valeur avec une seule de ces valeurs pouvant etre lue par 1/3\n",
    "\n",
    "4)  \n",
    "     | Tour | Périphérique | Adresse | Opération | Réponse ordonnanceur | ATT_L | ATT_E |\n",
    "     |:---|:---|:---|:---|:---|:---|:---|\n",
    "     | 1 | 0 | 10 | écriture | OK | vide      | vide |\n",
    "     | 1 | 1 | 10 | lecture  | ATT | (1, 10) | vide |\n",
    "     | 1 | 2 | 11 | écriture | OK | (1, 10) | vide |\n",
    "     | 1 | 3 | 11 | lecture  | ATT | (1, 10), (3, 11) | vide |\n",
    "     | 2 | 1 | 10 | lecture  | OK | (3, 11) | vide |\n",
    "     | 2 | 3 | 11 | lecture  | OK | vide    | vide |\n",
    "     | 2 | 0 | 10 | écriture | ATT | vide    |(0, 10)|\n",
    "     | 2 | 2 | 12 | écriture | OK | vide    | (0, 10) |\n",
    "     | 3 | 0 | 10 | écriture | OK | vide    | vide |\n",
    "     | 3 | 1 | 10 | lecture  | ATT | (1, 10) | vide |\n",
    "     | 3 | 2 | 11 | écriture | OK | (1, 10) | vide |\n",
    "     | 3 | 3 | 12 | lecture  | OK | (1, 10) | vide |  \n",
    "\n",
    "5) a) Pour le péripherique 1"
   ]
  }
 ],
 "metadata": {
  "kernelspec": {
   "display_name": "Python 3",
   "language": "python",
   "name": "python3"
  },
  "language_info": {
   "name": "python",
   "version": "3.12.1"
  }
 },
 "nbformat": 4,
 "nbformat_minor": 2
}
