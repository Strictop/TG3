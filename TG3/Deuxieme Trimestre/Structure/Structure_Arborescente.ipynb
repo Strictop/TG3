{
 "cells": [
  {
   "cell_type": "markdown",
   "metadata": {},
   "source": [
    "# Arbres\n",
    "\n",
    "<img src=\"https://ericecmorlaix.github.io/img/SA_banniere.png\" width='70%' />\n",
    "<img src=\"https://ericecmorlaix.github.io/img/SA_prog.png\" width='70%' />\n",
    "<img src=\"https://ericecmorlaix.github.io/img/SA_prog2.png\" width='70%' />"
   ]
  },
  {
   "cell_type": "markdown",
   "metadata": {},
   "source": [
    "## 1. Terminologie\n",
    "\n",
    "### 1.1 Vocabulaire\n",
    "Un arbre est une structure hiérarchique de données, composée de nœuds. Si on adopte le vocabulaire des graphes (qui seront vus plus tard dans l'année), un arbre est un graphe non orienté, connexe, sans cycle, et dans lequel un nœud joue le rôle de racine.\n",
    "\n",
    "![](https://ericecmorlaix.github.io/img/SA_term.png) \n"
   ]
  },
  {
   "cell_type": "markdown",
   "metadata": {},
   "source": [
    "- Chaque **nœud** a exactement un seul **nœud père**, à l'exception du nœud **racine** qui est le seul nœud à ne pas avoir de père. (oui, **la** racine d'une arbre est **en haut**)\n",
    "<img src=\"https://ericecmorlaix.github.io/img/SA_real_tree.png\" width='30%' />\n",
    "- Chaque nœud peut avoir un nombre quelconque de **fils**, dont il est le père.\n",
    "- Les nœuds qui n'ont pas de fils sont appelés les **feuilles** (ou nœuds externes).\n",
    "- Les nœuds qui ne sont pas des feuilles sont des **nœuds internes**.\n",
    "- Le nom de chaque nœud est appelé son **étiquette**.\n",
    "\n",
    "**Exemples :**\n",
    "dans l'arbre ci-dessus,\n",
    "- C est la racine, E, Z A et G sont les feuilles.\n",
    "- K est le père de A et G.\n",
    "- F est le père de Z.\n",
    "- C est le père de B et K\n",
    "- B est le père de E et F."
   ]
  },
  {
   "cell_type": "markdown",
   "metadata": {},
   "source": [
    "### 1.2 Exemples d'arbres\n",
    "\n",
    "#### 1.2.1 La famille royale britannique\n",
    "<img src=\"https://ericecmorlaix.github.io/img/SA_windsor.png\" width='60%' />\n",
    "\n",
    "Redessinez de manière plus schématique cet arbre. Pour quelle raison cet arbre a-t-il été modifié par rapport à sa version orginale (voir [ici](https://i.pinimg.com/originals/e8/d1/c7/e8d1c7b2834ce2c368848cf7fc91a057.jpg ) ), qui laissait apparaître les parents de chaque enfant ?\n",
    "\n",
    "#### 1.2.2 Le DOM d'une page web\n",
    "DOM : Document Object Model\n",
    "<img src=\"https://ericecmorlaix.github.io/img/SA_dom.svg\" width='40%' />\n",
    "\n",
    "#### 1.2.3 L'arborescence d'un disque dur\n",
    "Les systèmes Unix (MacOS ou GNU/Linux) organisent leur disque dur suivant l'arborescence ci-dessous :\n",
    "<img src=\"https://ericecmorlaix.github.io/img/SA_arbo-unix.gif\" width='40%' />\n",
    "\n",
    "#### 1.2.4 Exercice\n",
    "Quelque part à l'intérieur des dossiers contenus dans l'archive [dossiers.zip](https://ericecmorlaix.github.io/img/SA_dossiers.zip) se trouve un fichier ```tresor.txt```. Quel secret renferme-t-il ?\n",
    "\n",
    "Attention, cette recherche est à faire uniquement en ligne de commande :\n",
    "- ```ls``` : pour lister les dossiers et fichiers d'un répertoire\n",
    "- ```cd Dossier``` : pour se rendre dans le repértoire ```Dossier```\n",
    "- ```cd ..``` : pour remonter d'un niveau dans l'arborescence\n",
    "- ```unzip monarchive.zip``` : pour décompresser une archive\n",
    "- ```tree``` : pour afficher l'arborescence du répertoire courant\n",
    "- ```sudo apt install monprog``` : pour installer le programme ```monprog``` si celui-ci est manquant."
   ]
  },
  {
   "cell_type": "markdown",
   "metadata": {},
   "source": [
    "On trouve un trésor  \"bravo, vous avez gagné un lien vers la page Wikipedia sur les arbres binaires :https://fr.wikipedia.org/wiki/Arbre_binaire\"  \n",
    "Chemin pour le trouver: dossiers/dossier6/dossier2/dossier7/tresor.txt"
   ]
  },
  {
   "cell_type": "markdown",
   "metadata": {},
   "source": [
    "### 1.3 Caractéristiques d'un arbre\n",
    "\n",
    "#### 1.3.1 Outils numériques de description\n",
    "\n",
    "![](https://ericecmorlaix.github.io/img/SA_carac.png)\n",
    "\n"
   ]
  },
  {
   "cell_type": "markdown",
   "metadata": {},
   "source": [
    "- la **taille** d'un arbre est son nombre total de nœuds. Ici, elle vaut 8.\n",
    "\n",
    "\n",
    "- l'**arité** d'un nœud est son nombre de fils. Ici, l'arité de B vaut 2, celle de F vaut 1, celle de Z vaut 0.\n",
    "\n",
    "\n",
    "- la **profondeur** d'un nœud est le nombre de nœuds de son chemin le plus court vers la racine. \n",
    "Ici, la profondeur de G est 3 (G-K-C), la profondeur de B est 2 (B-C), la profondeur de Z est 4 (Z-F-B-C), la profondeur de C est 1.\n",
    "\n",
    "\n",
    "- la **hauteur** d'un arbre est la profondeur de son nœud le plus profond. \n",
    "Ici, la hauteur de l'arbre est 4.\n",
    "Nous prendrons comme **convention** que :\n",
    "- si un arbre est réduit à **un seul nœud-racine**, sa hauteur sera **1**.\n",
    "- si un arbre est **vide**, sa hauteur est **0**.\n",
    "\n",
    "*Cette convention est celle adoptée dans le sujet 0 publié le 15/12/2020. Attention, dans certains ouvrages, l'arbre vide a pour hauteur -1, et donc l'arbre réduit à un seul nœud a pour hauteur 0, donc notre arbre a une hauteur 3.*"
   ]
  },
  {
   "cell_type": "markdown",
   "metadata": {},
   "source": [
    "### 1.4 Encore du vocabulaire\n",
    "\n",
    "#### 1.4.2 Arbres binaires\n",
    "Un arbre binaire est un arbre dont chaque nœud possède **au plus** deux fils.\n",
    "\n",
    "L'arbre généalogique de la famille royale britannique n'est pas un arbre binaire. \n",
    "\n",
    "L'arbre ci-dessous est lui un arbre binaire.\n",
    "\n",
    "![](https://ericecmorlaix.github.io/img/SA_carac3.png)\n",
    "\n",
    "#### 1.4.1 Sous-arbres  d'un arbre binaire\n",
    "\n",
    "Chaque nœud d'un arbre binaire ne pouvant pas avoir plus de 2 fils, il est possible de séparer le «dessous» de chaque nœud en deux sous-arbres (éventuellement vides) : le **sous-arbre gauche** et le **sous-arbre droit**.\n",
    "\n",
    "![](https://ericecmorlaix.github.io/img/SA_sousarbres.png)\n",
    "\n",
    "\n",
    "- Les deux sous-arbres représentés ici sont les sous-arbres du nœud-racine T. \n",
    "- Le nœud O admet comme sous-arbre gauche le nœud H et comme sous-arbre droit le nœud N.\n",
    "- Les feuilles P, H et N ont pour sous-arbre gauche et pour sous-arbre droit l'**arbre vide**.\n",
    "\n"
   ]
  },
  {
   "cell_type": "markdown",
   "metadata": {},
   "source": [
    "#### 1.4.3 Cas des arbres binaires complets\n",
    "\n",
    "On rencontre très souvent des arbres binaires dits **complets** parce qu'aucun des fils gauche ou droit n'est manquant.\n",
    "\n",
    "![](https://ericecmorlaix.github.io/img/SA_complet.png)\n",
    "\n",
    "\n",
    "**Taille d'un arbre complet de hauteur $h$ :**\n",
    "$$1 + 2 + 2^2 + 2^3 + \\dots + 2^{h-1} = 2^{h} - 1$$\n",
    "\n",
    "*preuve* : ceci est la somme $S$ des $h$ premiers termes d'une suite géométrique de raison 2 et de premier terme 1, d'où $S= \\frac{1-2^{h}}{1-2} = 2^{h} -1$.\n",
    "\n",
    "\n",
    "Un arbre complet de hauteur $h$ (en prenant la convention que l'arbre vide a pour hauteur 0) a donc une taille égale à $2^{h}-1$.\n",
    "\n",
    "**Remarque :** On en déduit une inégalité classique sur l'encadrement de la taille $t$ d'un arbre binaire (non nécessairement complet) de hauteur $h$ :\n",
    "$$ h \\leqslant t \\leqslant 2^{h}-1$$"
   ]
  },
  {
   "cell_type": "markdown",
   "metadata": {},
   "source": [
    "## 2. Parcours d'arbres\n",
    "Les arbres étant une structure hiérarchique, leur utilisation implique la nécessité d'un **parcours** des valeurs stockées. Par exemple pour toutes les récupérer dans un certain ordre, ou bien pour en chercher une en particulier.  \n",
    "\n",
    "Il existe plusieurs manières de parcourir un arbre.\n"
   ]
  },
  {
   "cell_type": "markdown",
   "metadata": {},
   "source": [
    "### 2.1 Parcours en largeur d'abord (BFS)\n",
    "*BFS : Breadth First Search*\n",
    "\n",
    "Le parcours en largeur d'abord est un parcours étage par étage (de haut en bas) et de gauche à droite.\n",
    "\n",
    "![](https://ericecmorlaix.github.io/img/SA_BFS.png)\n",
    "\n",
    "L'ordre des lettres parcourues est donc T-Y-O-P-H-N."
   ]
  },
  {
   "cell_type": "markdown",
   "metadata": {},
   "source": [
    "Les trois parcours que nous allons voir maintenant sont des parcours en **profondeur d'abord**, ou **DPS** (*Depth First Search*). Ce qui signifie qu'un des deux sous-arbres sera totalement parcouru avant que l'exploration du deuxième ne commence. "
   ]
  },
  {
   "cell_type": "markdown",
   "metadata": {},
   "source": [
    "### 2.2 Parcours préfixe\n",
    "Le parcours **préfixe** est un parcours **en profondeur d'abord**. \n",
    "\n",
    "**Méthode du parcours préfixe :** (parfois aussi appelé *préordre*)\n",
    "- Chaque nœud est visité avant que ses fils le soient.\n",
    "- On part de la racine, puis on visite son fils gauche (et éventuellement le fils gauche de celui-ci, etc.) avant de remonter et de redescendre vers le fils droit.\n",
    "\n",
    "![](https://ericecmorlaix.github.io/img/SA_prefixe.png)\n",
    "\n",
    "L'ordre des lettres parcourues est donc T-Y-P-O-H-N."
   ]
  },
  {
   "cell_type": "markdown",
   "metadata": {},
   "source": [
    "### 2.3 Parcours infixe\n",
    "Le parcours **infixe** est aussi un parcours en profondeur d'abord.\n",
    "\n",
    "**Méthode du parcours infixe :** (parfois aussi appelé *en ordre*)\n",
    "- Chaque nœud est visité **après son fils gauche mais avant son fils droit**.\n",
    "- On part donc de la feuille la plus à gauche et on remonte par vagues sucessives. Un nœud ne peut pas être visité si son fils gauche ne l'a pas été.\n",
    "\n",
    "![](https://ericecmorlaix.github.io/img/SA_infixe.png)\n",
    "\n",
    "L'ordre des lettres parcourues est donc P-Y-T-H-O-N."
   ]
  },
  {
   "cell_type": "markdown",
   "metadata": {},
   "source": [
    "### 2.4 Parcours postfixe\n",
    "Le parcours **postfixe** est aussi un parcours en profondeur d'abord.\n",
    "\n",
    "**Méthode du parcours postfixe :** (parfois aussi appelé *post ordre*)\n",
    "- Chaque nœud est visité **après ses fils le soient**.\n",
    "- On part donc de la feuille la plus à gauche, et on ne remonte à un nœud père que si ses fils ont tous été visités. \n",
    "\n",
    "![](https://ericecmorlaix.github.io/img/SA_postfixe.png)\n",
    "\n",
    "L'ordre des lettres parcourues est donc P-Y-H-N-O-T."
   ]
  },
  {
   "cell_type": "markdown",
   "metadata": {},
   "source": [
    "### 2.5 Comment ne pas se mélanger entre le pré / in / post fixe ?\n",
    "- *pré* veut dire *avant*\n",
    "- *in* veut dire *au milieu*\n",
    "- *post* veut dire *après*\n",
    "\n",
    "Ces trois mots-clés parlent de la place du **père** par rapport à ses fils. \n",
    "Ensuite, il faut toujours se souvenir qu'on traite le fils gauche avant le fils droit.\n",
    "\n",
    "- préfixe : le père doit être le premier par rapport à ses fils.\n",
    "- infixe : le père doit être entre son fils gauche (traité en premier) et son fils droit.\n",
    "- postfixe : le père ne doit être traité que quand ses deux fils (gauche d'abord, droite ensuite) l'ont été.\n",
    "\n",
    "Un parcours préfixe commencera toujours par la racine, alors qu'un parcours postfixe finira toujours par la racine. Dans un parcours infixe, la racine sera «au milieu» (pas nécessairement parfaitement)."
   ]
  },
  {
   "cell_type": "markdown",
   "metadata": {},
   "source": [
    "### 2.6 Exercice 1\n",
    "\n",
    "![](https://ericecmorlaix.github.io/img/SA_exo_parcours.png)\n",
    "\n",
    "Donner le rendu de chaque parcours :\n",
    "1. Parcours en largeur  \n",
    "123456789\n",
    "2. Parcours préfixe  \n",
    "124578369\n",
    "3. Parcours infixe  \n",
    "427581396\n",
    "4. Parcours postfixe  \n",
    "478529631"
   ]
  },
  {
   "cell_type": "markdown",
   "metadata": {},
   "source": [
    "### 2.7 Exercice 2\n",
    "\n",
    "![](https://ericecmorlaix.github.io/img/SA_exo_2.png)\n",
    "\n",
    "Donner le rendu de chaque parcours :\n",
    "1. Parcours en largeur  \n",
    "987625143\n",
    "2. Parcours préfixe  \n",
    "986217543\n",
    "3. Parcours infixe  \n",
    "681297453\n",
    "4. Parcours postfixe  \n",
    "612843579\n"
   ]
  },
  {
   "cell_type": "markdown",
   "metadata": {},
   "source": [
    "## 3. Implémentations d'un arbre binaire\n",
    "### 3.1 En utilisant la Programmation Orientée Objet\n",
    "Le but est d'obtenir l'interface ci-dessous.\n",
    "\n",
    "Il est à remarquer que ce que nous allons appeler «Arbre» est en fait un nœud et ses deux fils gauche et droit."
   ]
  },
  {
   "cell_type": "code",
   "execution_count": null,
   "metadata": {},
   "outputs": [],
   "source": [
    "a = Arbre(4) # pour créer l'arbre dont le nœud a pour valeur 4,\n",
    "             # et dont les sous-arbres gauche et droit sont None"
   ]
  },
  {
   "cell_type": "code",
   "execution_count": null,
   "metadata": {},
   "outputs": [],
   "source": [
    "a.set_left(Arbre(3)) # pour donner la valeur 3 au nœud du sous-arbre gauche de a"
   ]
  },
  {
   "cell_type": "code",
   "execution_count": null,
   "metadata": {},
   "outputs": [],
   "source": [
    "a.set_right(Arbre(1)) # pour donner la valeur 1 au nœud du sous-arbre droit de a"
   ]
  },
  {
   "cell_type": "code",
   "execution_count": null,
   "metadata": {},
   "outputs": [],
   "source": [
    "a.get_right() # pour accéder au sous-arbre droit de a"
   ]
  },
  {
   "cell_type": "code",
   "execution_count": null,
   "metadata": {},
   "outputs": [],
   "source": [
    "a.get_left() # pour accéder au sous-arbre gauche de a"
   ]
  },
  {
   "cell_type": "code",
   "execution_count": null,
   "metadata": {},
   "outputs": [],
   "source": [
    "a.get_data() # pour accéder à la valeur du nœud de l'arbre a"
   ]
  },
  {
   "cell_type": "markdown",
   "metadata": {},
   "source": [
    "**Exercice :** Dessinez l'arbre créé par les instructions suivantes :"
   ]
  },
  {
   "cell_type": "code",
   "execution_count": null,
   "metadata": {},
   "outputs": [],
   "source": [
    "a = Arbre(4)\n",
    "a.set_left(Arbre(3))\n",
    "a.set_right(Arbre(1))\n",
    "a.get_right().set_left(Arbre(2))\n",
    "a.get_right().set_right(Arbre(7))\n",
    "a.get_left().set_left(Arbre(6))\n",
    "a.get_right().get_right().set_left(Arbre(9))"
   ]
  },
  {
   "attachments": {
    "image.png": {
     "image/png": "[encoded data removed]"
    }
   },
   "cell_type": "markdown",
   "metadata": {},
   "source": [
    "![image.png](attachment:image.png)"
   ]
  },
  {
   "cell_type": "markdown",
   "metadata": {},
   "source": [
    "**🟊 Implémentation 🟊**\n",
    "\n",
    "⯈ **Principe** : nous allons créer une classe ```Arbre```, qui contiendra 3 attributs : \n",
    "- ```data``` : la valeur du nœud (de type ```Int```)\n",
    "- ```left``` : le sous-arbre gauche (de type ```Arbre```)\n",
    "- ```right``` : le sous-arbre droit (de type ```Arbre```).\n",
    "\n",
    "Par défaut, les attributs ```left ``` et ```right``` seront à ```None```, qui représentera l'arbre vide (ce qui n'est pas très rigoureux, car ```None``` n'est pas de type ```Arbre```...).\n",
    "\n",
    "⯈ **Parti-pris** : afin de respecter le paradigme de la Programmation Orientée Objet, nous allons (pour une fois) jouer totalement le jeu de l'**encapsulation** en nous refusant d'accéder directement aux attributs.\n",
    "\n",
    "Nous allons donc construire des méthodes permettant d'accéder à ces attributs (avec des **getters**, ou **accesseurs** en français) ou de les modifier (avec des **setters**, ou **mutateurs** en français) .\n",
    "\n",
    "Dans certains langage (Java, C#...) , l'encapsulation est vivement encouragée : il est possible de limiter concrètement la visibilité des attributs (par les mots-clés ```private``` ou ```protected```).\n"
   ]
  },
  {
   "cell_type": "code",
   "execution_count": 2,
   "metadata": {},
   "outputs": [],
   "source": [
    "class Arbre:\n",
    "    def __init__(self, data):\n",
    "        self.data = data\n",
    "        self.left = None\n",
    "        self.right = None\n",
    "\n",
    "    def set_left(self, sousarbre):\n",
    "        self.left = sousarbre\n",
    "\n",
    "    def set_right(self, sousarbre):\n",
    "        self.right = sousarbre  \n",
    "\n",
    "    def get_left(self):\n",
    "        return self.left\n",
    "\n",
    "    def get_right(self):\n",
    "        return self.right\n",
    "\n",
    "    def get_data(self):\n",
    "        return self.data"
   ]
  },
  {
   "cell_type": "markdown",
   "metadata": {},
   "source": [
    "L'implémentation précédente permet d'utiliser les instructions de l'exercice précédent et de vérifier que l'arbre a bien été créé."
   ]
  },
  {
   "cell_type": "code",
   "execution_count": 3,
   "metadata": {},
   "outputs": [],
   "source": [
    "a = Arbre(4)\n",
    "a.set_left(Arbre(3))\n",
    "a.set_right(Arbre(1))\n",
    "a.get_right().set_left(Arbre(2))\n",
    "a.get_right().set_right(Arbre(7))\n",
    "a.get_left().set_left(Arbre(6))\n",
    "a.get_right().get_right().set_left(Arbre(9))"
   ]
  },
  {
   "cell_type": "code",
   "execution_count": 4,
   "metadata": {},
   "outputs": [
    {
     "data": {
      "text/plain": [
       "<__main__.Arbre at 0x707d24e651f0>"
      ]
     },
     "execution_count": 4,
     "metadata": {},
     "output_type": "execute_result"
    }
   ],
   "source": [
    "a"
   ]
  },
  {
   "cell_type": "code",
   "execution_count": 5,
   "metadata": {},
   "outputs": [
    {
     "data": {
      "text/plain": [
       "2"
      ]
     },
     "execution_count": 5,
     "metadata": {},
     "output_type": "execute_result"
    }
   ],
   "source": [
    "a.get_right().get_left().get_data()"
   ]
  },
  {
   "cell_type": "markdown",
   "metadata": {},
   "source": [
    "### 3.2 Implémentation à partir de tuples imbriqués\n",
    "\n",
    "Considérons qu'un arbre peut se représenter par le tuple ```(valeur, sous-arbre gauche, sous-arbre droit)```.\n",
    "\n",
    "L'arbre ci-dessous :\n",
    "![](https://ericecmorlaix.github.io/img/SA_imp_tuple.png)\n",
    "peut alors être représenté par le tuple :"
   ]
  },
  {
   "cell_type": "code",
   "execution_count": 6,
   "metadata": {},
   "outputs": [],
   "source": [
    "a = (2, (8, (6,(),()), (9,(),())), (1, (7, (),()), ()))"
   ]
  },
  {
   "cell_type": "markdown",
   "metadata": {},
   "source": [
    "Le sous-arbre gauche est alors ```a[1]``` et le sous-arbre droit est ```a[2]```."
   ]
  },
  {
   "cell_type": "code",
   "execution_count": 7,
   "metadata": {},
   "outputs": [
    {
     "data": {
      "text/plain": [
       "(8, (6, (), ()), (9, (), ()))"
      ]
     },
     "execution_count": 7,
     "metadata": {},
     "output_type": "execute_result"
    }
   ],
   "source": [
    "a[1]"
   ]
  },
  {
   "cell_type": "code",
   "execution_count": 8,
   "metadata": {
    "scrolled": true
   },
   "outputs": [
    {
     "data": {
      "text/plain": [
       "(1, (7, (), ()), ())"
      ]
     },
     "execution_count": 8,
     "metadata": {},
     "output_type": "execute_result"
    }
   ],
   "source": [
    "a[2]"
   ]
  },
  {
   "cell_type": "markdown",
   "metadata": {},
   "source": [
    "**Exercice :** écrire le tuple représentant l'arbre ci-dessous.\n",
    "\n",
    "![](https://ericecmorlaix.github.io/img/SA_carac3.png)\n",
    "\n"
   ]
  },
  {
   "cell_type": "code",
   "execution_count": null,
   "metadata": {},
   "outputs": [],
   "source": [
    "a = ('T', ('Y', ('P', (), ()), ()), ('O', ('H', (), ()), ('N', (), ())))\n"
   ]
  },
  {
   "cell_type": "markdown",
   "metadata": {},
   "source": [
    "### 3.3 Implémentation à partir d'une «simple» liste\n",
    "De manière plus surprenante, il existe une méthode pour implémenter un arbre binaire (qui est une structure hiérarchique) avec une liste (qui est une structure linéaire). \n",
    "Ceci peut se faire par le biais d'une astuce sur les indices :\n",
    "\n",
    "**Les fils du nœud d'indice i sont placés aux indice 2i+1 et 2i+2**.\n",
    "\n",
    "Cette méthode est connue sous le nom de «méthode d'Eytzinger», et utilisée notamment en [généalogie](https://fr.wikipedia.org/wiki/Num%C3%A9rotation_de_Sosa-Stradonitz) pour numéroter facilement les individus d'un arbre généalogique.\n",
    "\n",
    "\n",
    "\n",
    "**Exemple :**\n",
    "\n",
    "![](https://ericecmorlaix.github.io/img/SA_eytzinger.png)\n",
    "\n",
    "\n",
    "Pour comprendre facilement la numérotation, il suffit de s'imaginer l'arbre complet (en rajoutant les fils vides) et de faire une numérotation en largeur, niveau par niveau :\n",
    "\n",
    "![](https://ericecmorlaix.github.io/img/SA_eytzinger2.png)"
   ]
  },
  {
   "cell_type": "markdown",
   "metadata": {},
   "source": [
    "**Exercice :** Si on note Δ le sous-arbre vide, dessiner l'arbre représenté par la liste :"
   ]
  },
  {
   "cell_type": "code",
   "execution_count": 9,
   "metadata": {},
   "outputs": [
    {
     "ename": "NameError",
     "evalue": "name 'Δ' is not defined",
     "output_type": "error",
     "traceback": [
      "\u001b[0;31m---------------------------------------------------------------------------\u001b[0m",
      "\u001b[0;31mNameError\u001b[0m                                 Traceback (most recent call last)",
      "Cell \u001b[0;32mIn[9], line 1\u001b[0m\n\u001b[0;32m----> 1\u001b[0m a \u001b[38;5;241m=\u001b[39m [\u001b[38;5;241m3\u001b[39m,\u001b[38;5;241m4\u001b[39m,\u001b[43mΔ\u001b[49m,\u001b[38;5;241m7\u001b[39m,\u001b[38;5;241m5\u001b[39m,Δ,Δ]\n",
      "\u001b[0;31mNameError\u001b[0m: name 'Δ' is not defined"
     ]
    }
   ],
   "source": [
    "a = [\"\",Δ,7,5,Δ,Δ]"
   ]
  },
  {
   "cell_type": "markdown",
   "metadata": {},
   "source": [
    "**Remarque :** parfois (comme dans le sujet 0...) la racine de l'arbre est placée à l'indice 1. Dans ce cas, les fils du nœud d'indice i sont placés aux indice 2i et 2i+1."
   ]
  },
  {
   "cell_type": "markdown",
   "metadata": {},
   "source": [
    "## 4. Utilisation de l'implémentation : parcours, taille...\n",
    "\n",
    "Dans toute la suite, sauf mention contraire, on utilisera l'implémentation en Programmation Orientée Objet.\n",
    "Nous allons créer des fonctions renvoyant les différents parcours d'un arbre, ou encore sa taille, sa hauteur, son nombre de feuilles... Toutes ses fonctions exploiteront la structure **récursive** d'un arbre.\n",
    "\n",
    "\n",
    "**Rappel de l'implémentation :**"
   ]
  },
  {
   "cell_type": "code",
   "execution_count": 10,
   "metadata": {},
   "outputs": [],
   "source": [
    "class Arbre:\n",
    "    def __init__(self, data):\n",
    "        self.data = data\n",
    "        self.left = None\n",
    "        self.right = None\n",
    "\n",
    "    def set_left(self, sousarbre):\n",
    "        self.left = sousarbre\n",
    "\n",
    "    def set_right(self, sousarbre):\n",
    "        self.right = sousarbre  \n",
    "\n",
    "    def get_left(self):\n",
    "        return self.left\n",
    "\n",
    "    def get_right(self):\n",
    "        return self.right\n",
    "\n",
    "    def get_data(self):\n",
    "        return self.data"
   ]
  },
  {
   "cell_type": "markdown",
   "metadata": {},
   "source": [
    "### 4.1 Parcours préfixe, infixe, postfixe\n",
    "\n",
    "#### 4.1.1 Parcours préfixe"
   ]
  },
  {
   "cell_type": "code",
   "execution_count": 11,
   "metadata": {},
   "outputs": [],
   "source": [
    "def prefixe(arbre):\n",
    "    if arbre is None :\n",
    "        return 0\n",
    "    print(arbre.data, end = '-')\n",
    "    prefixe(arbre.left)\n",
    "    prefixe(arbre.right)\n"
   ]
  },
  {
   "cell_type": "markdown",
   "metadata": {},
   "source": [
    "Exemple avec l'arbre \n",
    "![](https://ericecmorlaix.github.io/img/SA_exo_2.png)"
   ]
  },
  {
   "cell_type": "code",
   "execution_count": 12,
   "metadata": {},
   "outputs": [],
   "source": [
    "a = Arbre(9)\n",
    "a.set_left(Arbre(8))\n",
    "a.set_right(Arbre(7))\n",
    "a.get_left().set_left(Arbre(6))\n",
    "a.get_left().set_right(Arbre(2))\n",
    "a.get_right().set_right(Arbre(5))\n",
    "a.get_left().get_right().set_left(Arbre(1))\n",
    "a.get_right().get_right().set_left(Arbre(4))\n",
    "a.get_right().get_right().set_right(Arbre(3))"
   ]
  },
  {
   "cell_type": "code",
   "execution_count": 13,
   "metadata": {},
   "outputs": [
    {
     "name": "stdout",
     "output_type": "stream",
     "text": [
      "9-8-6-2-1-7-5-4-3-"
     ]
    }
   ],
   "source": [
    "prefixe(a)"
   ]
  },
  {
   "cell_type": "markdown",
   "metadata": {},
   "source": [
    "#### 4.1.2 Parcours infixe"
   ]
  },
  {
   "cell_type": "code",
   "execution_count": 14,
   "metadata": {},
   "outputs": [],
   "source": [
    "def infixe(arbre):\n",
    "    if arbre is None :\n",
    "        return 0\n",
    "    infixe(arbre.left)\n",
    "    print(arbre.data, end = '-')\n",
    "    infixe(arbre.right)"
   ]
  },
  {
   "cell_type": "code",
   "execution_count": 15,
   "metadata": {},
   "outputs": [
    {
     "name": "stdout",
     "output_type": "stream",
     "text": [
      "6-8-1-2-9-7-4-5-3-"
     ]
    }
   ],
   "source": [
    "infixe(a)"
   ]
  },
  {
   "cell_type": "markdown",
   "metadata": {},
   "source": [
    "#### 4.1.3 Parcours postfixe"
   ]
  },
  {
   "cell_type": "code",
   "execution_count": 16,
   "metadata": {},
   "outputs": [],
   "source": [
    "def postfixe(arbre):\n",
    "    if arbre is None :\n",
    "        return 0\n",
    "    postfixe(arbre.left)\n",
    "    postfixe(arbre.right)\n",
    "    print(arbre.data, end = '-')"
   ]
  },
  {
   "cell_type": "code",
   "execution_count": 17,
   "metadata": {},
   "outputs": [
    {
     "name": "stdout",
     "output_type": "stream",
     "text": [
      "6-1-2-8-4-3-5-7-9-"
     ]
    }
   ],
   "source": [
    "postfixe(a)"
   ]
  },
  {
   "cell_type": "markdown",
   "metadata": {},
   "source": [
    "### 4.2 Calcul de la taille d'un arbre\n",
    "Rappel :la taille d'un arbre est le nombre de ses nœuds."
   ]
  },
  {
   "cell_type": "code",
   "execution_count": 18,
   "metadata": {},
   "outputs": [],
   "source": [
    "def taille(arbre):\n",
    "    if arbre is None:\n",
    "        return 0\n",
    "    else:\n",
    "        return 1 + taille(arbre.get_left()) + taille(arbre.get_right())"
   ]
  },
  {
   "cell_type": "code",
   "execution_count": 19,
   "metadata": {},
   "outputs": [
    {
     "data": {
      "text/plain": [
       "9"
      ]
     },
     "execution_count": 19,
     "metadata": {},
     "output_type": "execute_result"
    }
   ],
   "source": [
    "taille(a)"
   ]
  },
  {
   "cell_type": "markdown",
   "metadata": {},
   "source": [
    "### 4.3 Calcul de la hauteur d'un arbre\n",
    "Rappel : on prendra comme convention que l'arbre vide a pour hauteur 0."
   ]
  },
  {
   "cell_type": "code",
   "execution_count": 20,
   "metadata": {},
   "outputs": [],
   "source": [
    "def hauteur(arbre):\n",
    "    if arbre is None:\n",
    "        return 0\n",
    "    else :\n",
    "        return 1 + max(hauteur(arbre.get_left()),hauteur(arbre.get_right()))"
   ]
  },
  {
   "cell_type": "code",
   "execution_count": 21,
   "metadata": {},
   "outputs": [
    {
     "data": {
      "text/plain": [
       "4"
      ]
     },
     "execution_count": 21,
     "metadata": {},
     "output_type": "execute_result"
    }
   ],
   "source": [
    "hauteur(a)"
   ]
  },
  {
   "cell_type": "markdown",
   "metadata": {},
   "source": [
    "### 4.4 Calcul du nombre de feuilles d'un arbre\n",
    "Rappel : une feuille est un nœud d'arité 0, autrement dit sans fils gauche ni fils droit."
   ]
  },
  {
   "cell_type": "code",
   "execution_count": 22,
   "metadata": {},
   "outputs": [],
   "source": [
    "def nbfeuilles(arbre):\n",
    "    if arbre is None:\n",
    "        return 0\n",
    "    if (arbre.get_left() is None) and (arbre.get_right() is None):\n",
    "        return 1\n",
    "    else :\n",
    "        return nbfeuilles(arbre.get_left()) +  nbfeuilles(arbre.get_right())"
   ]
  },
  {
   "cell_type": "code",
   "execution_count": 23,
   "metadata": {},
   "outputs": [
    {
     "data": {
      "text/plain": [
       "4"
      ]
     },
     "execution_count": 23,
     "metadata": {},
     "output_type": "execute_result"
    }
   ],
   "source": [
    "nbfeuilles(a)"
   ]
  },
  {
   "cell_type": "markdown",
   "metadata": {},
   "source": [
    "### 4.5 Rechercher une valeur dans un arbre\n",
    "On renverra ```True``` ou ```False``` en fonction de la présence ou non de la valeur dans l'arbre."
   ]
  },
  {
   "cell_type": "code",
   "execution_count": 24,
   "metadata": {},
   "outputs": [],
   "source": [
    "def recherche(arbre, valeur):\n",
    "    if arbre is None:\n",
    "        return False\n",
    "    if arbre.get_data() ==  valeur:\n",
    "        return True\n",
    "    else :\n",
    "        return recherche(arbre.get_left(), valeur) or recherche(arbre.get_right(), valeur)"
   ]
  },
  {
   "cell_type": "code",
   "execution_count": 25,
   "metadata": {},
   "outputs": [
    {
     "data": {
      "text/plain": [
       "True"
      ]
     },
     "execution_count": 25,
     "metadata": {},
     "output_type": "execute_result"
    }
   ],
   "source": [
    "recherche(a, 2)"
   ]
  },
  {
   "cell_type": "code",
   "execution_count": 26,
   "metadata": {},
   "outputs": [
    {
     "data": {
      "text/plain": [
       "False"
      ]
     },
     "execution_count": 26,
     "metadata": {},
     "output_type": "execute_result"
    }
   ],
   "source": [
    "recherche(a, 45)"
   ]
  },
  {
   "cell_type": "markdown",
   "metadata": {},
   "source": [
    "### 4.6 Parcours en largeur\n",
    "Le parcours en largeur (BFS) est le plus simple à faire visuellement : mais il est plus difficile à coder que les parcours préfixe, infixe, postfixe.  \n",
    "Il est nécessaire d'utiliser une **file**  :\n",
    "- On place l'arbre dans la file.\n",
    "- Tant que la file n'est pas vide, on procède comme suit :\n",
    "    - On défile, donc on récupère l'arbre situé en haut de la file.  \n",
    "    - Si cet arbre n'est pas vide :\n",
    "        - On garde son étiquette.\n",
    "        - On enfile son sous-arbre gauche, puis son sous-arbre droit.\n",
    "\n",
    "![](https://ericecmorlaix.github.io/img/SA_parcoursBFS.png)"
   ]
  },
  {
   "cell_type": "markdown",
   "metadata": {},
   "source": [
    "On importera l'objet ```Queue()``` du module ```queue``` de Python, qui permet de  :\n",
    "- créer une file vide avec ```file = Queue()```\n",
    "- défiler un élément par ```file.get()```\n",
    "- enfiler l'élément ```a``` par ```file.put(a)```\n",
    "- savoir si la file est vide par le booléen ```file.empty()```"
   ]
  },
  {
   "cell_type": "code",
   "execution_count": 27,
   "metadata": {},
   "outputs": [],
   "source": [
    "# arbre-test\n",
    "# ne pas oublier de remonter plus haut dans le document pour relancer la classe Arbre\n",
    "a = Arbre(8)\n",
    "a.set_left(Arbre(4))\n",
    "a.set_right(Arbre(5))\n",
    "a.get_left().set_left(Arbre(2))\n",
    "a.get_left().set_right(Arbre(1))\n",
    "a.get_right().set_right(Arbre(3))"
   ]
  },
  {
   "cell_type": "code",
   "execution_count": 28,
   "metadata": {},
   "outputs": [],
   "source": [
    "from queue import Queue\n",
    "\n",
    "def BFS(arbre):        \n",
    "    file = Queue()\n",
    "    file.put(arbre)\n",
    "    sol = []\n",
    "    while file.empty() is False :\n",
    "        a = file.get()\n",
    "        if a is not None :\n",
    "            sol.append(a.get_data())\n",
    "            file.put(a.get_left())\n",
    "            file.put(a.get_right())\n",
    "    return sol"
   ]
  },
  {
   "cell_type": "code",
   "execution_count": 29,
   "metadata": {},
   "outputs": [
    {
     "data": {
      "text/plain": [
       "[8, 4, 5, 2, 1, 3]"
      ]
     },
     "execution_count": 29,
     "metadata": {},
     "output_type": "execute_result"
    }
   ],
   "source": [
    "BFS(a)"
   ]
  },
  {
   "cell_type": "markdown",
   "metadata": {},
   "source": [
    "## 5. Arbres binaires de recherche (ABR)\n",
    "Un **arbre binaire de recherche** est un arbre binaire dont les valeurs des nœuds (valeurs qu'on appelle étiquettes, ou clés) vérifient la propriété suivante :\n",
    "- l'étiquette d'un nœud est **supérieure ou égale** à celle de **chaque** nœud de son **sous-arbre gauche**.\n",
    "- l'étiquette d'un nœud est **strictement inférieure** à celle du **chaque** nœud de son **sous-arbre droit**.\n",
    "\n",
    "![](https://ericecmorlaix.github.io/img/SA_exABR.png)\n",
    "\n",
    "À noter que l'arbre 3 (qui est bien un ABR) est appelé **arbre filiforme**. \n",
    "\n",
    "L'arbre 5 n'est pas un ABR à cause de la feuille 9, qui fait partie du sous-arbre gauche de 3 sans lui être inférieure.\n",
    "\n",
    "**Remarque :** on pourrait aussi définir un ABR comme un arbre dont le parcours infixe est une suite croissante."
   ]
  },
  {
   "cell_type": "markdown",
   "metadata": {},
   "source": [
    "### 5.1 Déterminer si un arbre est un ABR\n",
    "\n",
    "Employer une méthode récursive imposerait de garder en mémoire dans l'exploration des sous-arbres la valeur maximale ou minimale. Nous allons plutôt utiliser la remarque précédente, et nous servir du parcours infixe.\n",
    "\n",
    "Méthode : récupérer le parcours infixe dans une liste, et faire un test sur cette liste."
   ]
  },
  {
   "cell_type": "code",
   "execution_count": 30,
   "metadata": {},
   "outputs": [],
   "source": [
    "def est_ABR(arbre, p):\n",
    "    '''renvoie un booléen indiquant si arbre est un ABR'''\n",
    "    # p est la liste qui contiendra le parcours. la fonction est à appeler par est_ABR(a, [])\n",
    "    if arbre is None :\n",
    "        return 0\n",
    "    est_ABR(arbre.left, p)\n",
    "    p.append(arbre.data)\n",
    "    est_ABR(arbre.right, p)\n",
    "    return p == sorted(p) # on regarde si le parcours est égal au parcours trié (merci TomFox)\n"
   ]
  },
  {
   "cell_type": "code",
   "execution_count": 31,
   "metadata": {},
   "outputs": [],
   "source": [
    "# arbres-tests \n",
    "\n",
    "#arbre n°4\n",
    "a = Arbre(5)\n",
    "a.set_left(Arbre(2))\n",
    "a.set_right(Arbre(7))\n",
    "a.get_left().set_left(Arbre(0))\n",
    "a.get_left().set_right(Arbre(3))\n",
    "a.get_right().set_left(Arbre(6))\n",
    "a.get_right().set_right(Arbre(8))\n",
    "\n",
    "#arbre n°5\n",
    "b = Arbre(3)\n",
    "b.set_left(Arbre(2))\n",
    "b.set_right(Arbre(5))\n",
    "b.get_left().set_left(Arbre(1))\n",
    "b.get_left().set_right(Arbre(9))\n",
    "b.get_right().set_left(Arbre(4))\n",
    "b.get_right().set_right(Arbre(6))\n",
    "\n"
   ]
  },
  {
   "cell_type": "code",
   "execution_count": 32,
   "metadata": {},
   "outputs": [
    {
     "data": {
      "text/plain": [
       "True"
      ]
     },
     "execution_count": 32,
     "metadata": {},
     "output_type": "execute_result"
    }
   ],
   "source": [
    "est_ABR(a, [])"
   ]
  },
  {
   "cell_type": "code",
   "execution_count": 33,
   "metadata": {},
   "outputs": [
    {
     "data": {
      "text/plain": [
       "False"
      ]
     },
     "execution_count": 33,
     "metadata": {},
     "output_type": "execute_result"
    }
   ],
   "source": [
    "est_ABR(b, [])"
   ]
  },
  {
   "cell_type": "markdown",
   "metadata": {},
   "source": [
    "### 5.2 Rechercher une clé dans un ABR\n",
    "\n",
    "Un arbre binaire de taille $n$ contient $n$ clés (pas forcément différentes). Pour savoir si une valeur particulière fait partie des clés, on peut parcourir tous les nœuds de l'arbre, jusqu'à trouver (ou pas) cette valeur dans l'arbre. Dans le pire des cas, il faut donc faire $n$ comparaisons.\n",
    "\n",
    "Mais si l'arbre est un ABR, le fait que les valeurs soient «rangées» va considérablement améliorer la vitesse de recherche de cette clé, puisque la moitié de l'arbre restant sera écartée après chaque comparaison."
   ]
  },
  {
   "cell_type": "code",
   "execution_count": 34,
   "metadata": {},
   "outputs": [],
   "source": [
    "def contient_valeur(arbre, valeur):\n",
    "    if arbre is None :\n",
    "        return False\n",
    "    if arbre.get_data() == valeur :\n",
    "        return True\n",
    "    if valeur < arbre.get_data() :\n",
    "        return contient_valeur(arbre.get_left(), valeur)\n",
    "    else:\n",
    "        return contient_valeur(arbre.get_right(), valeur)\n"
   ]
  },
  {
   "cell_type": "markdown",
   "metadata": {},
   "source": [
    "**Exemple** \n",
    "\n",
    "L'arbre ```a``` contient la valeur 8, mais l'arbre ```b``` ne la contient pas :\n"
   ]
  },
  {
   "cell_type": "code",
   "execution_count": 35,
   "metadata": {},
   "outputs": [
    {
     "data": {
      "text/plain": [
       "True"
      ]
     },
     "execution_count": 35,
     "metadata": {},
     "output_type": "execute_result"
    }
   ],
   "source": [
    "contient_valeur(a,8)"
   ]
  },
  {
   "cell_type": "code",
   "execution_count": 36,
   "metadata": {},
   "outputs": [
    {
     "data": {
      "text/plain": [
       "False"
      ]
     },
     "execution_count": 36,
     "metadata": {},
     "output_type": "execute_result"
    }
   ],
   "source": [
    "contient_valeur(b,8)"
   ]
  },
  {
   "cell_type": "markdown",
   "metadata": {},
   "source": [
    "### 5.3  Coût de la recherche dans un ABR équilibré\n",
    "![](https://ericecmorlaix.github.io/img/SA_rechercheABR.png)\n",
    "\n",
    "Imaginons un arbre équilibré de taille $n$. Combien d'étapes faudra-t-il, dans le pire des cas, pour trouver (ou pas) une clé particulière dans cet arbre ?\n",
    "\n",
    "Après chaque nœud, le nombre de nœuds restant à explorer est divisé par 2. On retrouve là le principe de recherche dichotomique.\n",
    "\n",
    "S'il faut parcourir tous les étages de l'arbre avant de trouver (ou pas) la clé recherchée, le nombre de nœuds parcourus est donc égal à la hauteur $h$ de l'arbre.\n",
    "\n",
    "Pour un arbre complet, cette hauteur vérifie la relation $2^h -1= n$. et donc $2^h = n+1$.\n",
    "\n",
    "$h$ est donc le «nombre de puissance de 2» que l'on peut mettre dans $n+1$. Cette notion s'appelle le logarithme de base 2 et se note $\\log_2$.\n",
    "\n",
    "Par exemple, $\\log_2(64)=6$ car $2^6=64$.\n",
    "\n",
    "Le nombre maximal de nœuds à parcourir pour rechercher une clé dans un ABR équilibré de taille $n$ est donc de l'ordre de $\\log_2(n)$, ce qui est très performant !\n",
    "\n",
    "Pour arbre contenant 1000 valeurs, 10 étapes suffisent.\n",
    "\n",
    "Cette **complexité logarithmique** est un atout essentiel de la structure d'arbre binaire de recherche."
   ]
  },
  {
   "cell_type": "markdown",
   "metadata": {},
   "source": [
    "### 5.4  Insertion dans un ABR\n",
    "L'insertion d'une clé va se faire au niveau d'une feuille, donc au bas de l'arbre. Dans la version récursive de l'algorithme d'insertion, que nous allons implémenter, il n'est pourtant pas nécessaire de descendre manuellement dans l'arbre jusqu'au bon endroit : il suffit de distinguer dans lequel des deux sous-arbres gauche et droit doit se trouver la future clé, et d'appeler récursivement la fonction d'insertion dans le sous-arbre en question.\n",
    "\n",
    "**Algorithme :**\n",
    "- Si l'arbre est vide, on renvoie un nouvel objet Arbre contenant la clé.\n",
    "- Sinon, on compare la clé à la valeur du nœud sur lequel on est positionné :\n",
    "    - Si la clé est inférieure à cette valeur, on va modifier le sous-arbre gauche en le faisant pointer vers ce même sous-arbre une fois que la clé y aura été injecté, par un appel récursif.\n",
    "    - Si la clé est supérieure, on fait la même chose avec l'arbre de droite.\n",
    "    - on renvoie le nouvel arbre ainsi créé."
   ]
  },
  {
   "cell_type": "code",
   "execution_count": 37,
   "metadata": {},
   "outputs": [],
   "source": [
    "def insertion(arbre, valeur):\n",
    "    if arbre is None :\n",
    "        return Arbre(valeur)\n",
    "    else :\n",
    "        v = arbre.get_data()\n",
    "        if valeur <= v :\n",
    "            arbre.set_left(insertion(arbre.get_left(), valeur))\n",
    "        else:\n",
    "            arbre.set_right(insertion(arbre.get_right(), valeur))\n",
    "        return arbre"
   ]
  },
  {
   "cell_type": "markdown",
   "metadata": {},
   "source": [
    "**Exemple :** Nous allons insérer la valeur 4 dans l'arbre ```a``` et vérifier par un parcours infixe (avant et après l'insertion) que la valeur 4 a bien été insérée au bon endroit.\n",
    "\n",
    "![](https://ericecmorlaix.github.io/img/SA_insertionABR.png)"
   ]
  },
  {
   "cell_type": "code",
   "execution_count": null,
   "metadata": {},
   "outputs": [],
   "source": [
    "a = Arbre(5)\n",
    "a.set_left(Arbre(2))\n",
    "a.set_right(Arbre(7))\n",
    "a.get_left().set_left(Arbre(0))\n",
    "a.get_left().set_right(Arbre(3))\n",
    "a.get_right().set_left(Arbre(6))\n",
    "a.get_right().set_right(Arbre(8))"
   ]
  },
  {
   "cell_type": "code",
   "execution_count": null,
   "metadata": {},
   "outputs": [],
   "source": [
    "infixe(a)"
   ]
  },
  {
   "cell_type": "code",
   "execution_count": null,
   "metadata": {},
   "outputs": [],
   "source": [
    "insertion(a,4)"
   ]
  },
  {
   "cell_type": "code",
   "execution_count": null,
   "metadata": {},
   "outputs": [],
   "source": [
    "infixe(a)"
   ]
  },
  {
   "cell_type": "markdown",
   "metadata": {},
   "source": [
    "La valeur 4 a donc bien été insérée au bon endroit."
   ]
  },
  {
   "cell_type": "markdown",
   "metadata": {},
   "source": [
    "\n",
    "\n",
    "---\n",
    "## Bibliographie\n",
    "- Numérique et Sciences Informatiques, Terminale, T. BALABONSKI, S. CONCHON, J.-C. FILLIATRE, K. NGUYEN, éditions ELLIPSES.\n",
    "\n",
    "\n",
    "\n",
    "---\n",
    "\n",
    "![](../../../ccbysa.png \"image\") Document de G.Lassus, Lycée François Mauriac --  Bordeaux  \n"
   ]
  }
 ],
 "metadata": {
  "kernelspec": {
   "display_name": "Python 3",
   "language": "python",
   "name": "python3"
  },
  "language_info": {
   "codemirror_mode": {
    "name": "ipython",
    "version": 3
   },
   "file_extension": ".py",
   "mimetype": "text/x-python",
   "name": "python",
   "nbconvert_exporter": "python",
   "pygments_lexer": "ipython3",
   "version": "3.12.1"
  },
  "toc": {
   "base_numbering": 1,
   "nav_menu": {},
   "number_sections": true,
   "sideBar": true,
   "skip_h1_title": false,
   "title_cell": "Table of Contents",
   "title_sidebar": "Contents",
   "toc_cell": false,
   "toc_position": {},
   "toc_section_display": true,
   "toc_window_display": false
  },
  "varInspector": {
   "cols": {
    "lenName": 16,
    "lenType": 16,
    "lenVar": 40
   },
   "kernels_config": {
    "python": {
     "delete_cmd_postfix": "",
     "delete_cmd_prefix": "del ",
     "library": "var_list.py",
     "varRefreshCmd": "print(var_dic_list())"
    },
    "r": {
     "delete_cmd_postfix": ") ",
     "delete_cmd_prefix": "rm(",
     "library": "var_list.r",
     "varRefreshCmd": "cat(var_dic_list()) "
    }
   },
   "types_to_exclude": [
    "module",
    "function",
    "builtin_function_or_method",
    "instance",
    "_Feature"
   ],
   "window_display": false
  },
  "vscode": {
   "interpreter": {
    "hash": "c813da0d88532624e95401f841607d640ef6d724b81c00ab0d0885f617a921c3"
   }
  }
 },
 "nbformat": 4,
 "nbformat_minor": 2
}
