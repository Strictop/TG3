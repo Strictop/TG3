{
 "cells": [
  {
   "cell_type": "markdown",
   "metadata": {},
   "source": [
    "1.\n",
    "| Arrivée | moyen de l’atteindre | métrique |\n",
    "|:-:|:-:|:-:|\n",
    "| F | F | 39 |\n",
    "| E | E | 23 | \n",
    "| H | H | 25 |\n",
    "| I | I | 21 |\n",
    "| C | I | 55 |\n",
    "| B | H | 59 |\n",
    "| A | I | 63 |\n",
    "| D | I | 51 |\n"
   ]
  },
  {
   "cell_type": "markdown",
   "metadata": {},
   "source": [
    "2. a) D'après la table de B le cout pour atteindre D est de 1 donc ils sont voisins  \n",
    "   b) D'après la table de E, le cout pour atteindre G est de 3 avec D en passerelle. Donc ça veut dire que E est voisin avec D et donc il n'est pas voisin avec G  \n",
    "   c) Les tables n'ont pas convergé"
   ]
  },
  {
   "cell_type": "markdown",
   "metadata": {},
   "source": [
    "2. e) \n",
    "    | réseau | moyen de l’atteindre | métrique |\n",
    "    |:-:|:-:|:-:|\n",
    "    | A | A | 0 |\n",
    "    | B | B | 1 |\n",
    "    | C | C | 1 |\n",
    "    | D | B | 2 | \n",
    "    | E | E | 2 |"
   ]
  }
 ],
 "metadata": {
  "language_info": {
   "name": "python"
  }
 },
 "nbformat": 4,
 "nbformat_minor": 2
}
