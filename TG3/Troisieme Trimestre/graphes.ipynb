{
 "cells": [
  {
   "cell_type": "markdown",
   "metadata": {},
   "source": [
    "Exercice 3    \n",
    "\n",
    "1) \n",
    "  <img src='IMG_0061.jpeg' height='500'>\n",
    "\n",
    "2) A puis E puis D  \n",
    "\n",
    "3)\n",
    "|   | A | B | C | D | E | F | G |\n",
    "|:-:|:-:|:-:|:-:|:-:|:-:|:-:|:-:|\n",
    "| **A** | 0 | 1 | 0 | 0 | 1 | 0 | 0 |\n",
    "| **B** | 1 | 0 | 0 | 0 | 1 | 1 | 0 |\n",
    "| **C** | 0 | 0 | 0 | 1 | 1 | 0 | 0 |\n",
    "| **D** | 0 | 0 | 1 | 0 | 1 | 1 | 0 |\n",
    "| **E** | 1 | 1 | 1 | 1 | 0 | 0 | 0 |\n",
    "| **F** | 0 | 1 | 0 | 1 | 0 | 0 | 1 |\n",
    "| **G** | 0 | 0 | 0 | 0 | 0 | 1 | 0 |  \n"
   ]
  },
  {
   "cell_type": "code",
   "execution_count": null,
   "metadata": {},
   "outputs": [],
   "source": [
    "# Question 4\n",
    "G2 = {  \n",
    " \"A\":[\"B\", \"C\", \"H\"],  \n",
    " \"B\":[\"A\", \"I\"],  \n",
    " \"C\":[\"A\", \"D\", \"E\"],  \n",
    " \"D\":[\"C\", \"E\"],  \n",
    " \"E\":[\"C\", \"D\", \"G\"],  \n",
    " \"F\":[\"G\", \"I\"],  \n",
    " \"G\":[\"E\", \"F\", \"H\"],  \n",
    " \"H\":[\"A\", \"I\", \"G\"],  \n",
    " \"I\":[\"B\", \"F\", \"H\"]  \n",
    " }"
   ]
  },
  {
   "cell_type": "markdown",
   "metadata": {},
   "source": [
    "5. A B C H I D E G F  \n",
    "6. Parce que la fonction se rappelle elle meme. \n",
    "7. Il cherche tout les itineraires du debut jusqu'a la fin. "
   ]
  },
  {
   "cell_type": "code",
   "execution_count": null,
   "metadata": {},
   "outputs": [],
   "source": [
    "# Question 8\n",
    "def itineraires_court(G, dep, arr):\n",
    "    cherche_itineraires(G, dep, arr)\n",
    "    tab_court = []\n",
    "    mini = float('inf')\n",
    "    for v in tab_itineraires:\n",
    "        if len(v) <= mini :\n",
    "            mini = len(v)\n",
    "    for v in tab_itineraires:\n",
    "        if len(v) == mini:\n",
    "            tab_court.append(v)\n",
    "    return tab_court"
   ]
  },
  {
   "cell_type": "markdown",
   "metadata": {},
   "source": [
    "9. La variable tab_itineraires n'est pas réinitialisée entre chaque appel car dans le cas dans ou le programme n'est pas exécuté entre chaque appel, itineraires_court renvoie la valeur de la précédente utilisation.  \n",
    "10. Ce systeme SGBD permet d'éviter de devoir dupliquer les données en doublons pour les infrastructures de chacune des villes. \n",
    "11.\n",
    "| ville |       | sport |  \n",
    "|:-:|           |:-:|  \n",
    "|-id*|          |-id |  \n",
    "|-nom|          |-nom |  \n",
    "|-num_dep|      |-type|  \n",
    "|-nombre_hab|   |-note|\n",
    "|-superficie|   |-id_ville*|    \n",
    "\n",
    "12. Cela permet de mettre en relation la table ville et la table sport.  \n",
    "13. La requete renvoie la ville Chamonix.  \n",
    "14. \n",
    "```sql\n",
    "SELECT nom  \n",
    "FROM sport,  \n",
    "WHERE type = \"piscine\",  \n",
    "ORDER BY nom;  \n",
    "```\n",
    "\n",
    "15. \n",
    "```sql\n",
    "UPDATE sport\n",
    "SET note = 7,\n",
    "WHERE id = 3;\n",
    "```\n",
    "\n",
    "16.\n",
    " ```sql\n",
    "INSERT INTO ville\n",
    "VALUES(8, \"'Toulouse\", 31, 471941, 118);\n",
    "```\n",
    "\n",
    "17. \n",
    "```sql\n",
    "SELECT sport.nom\n",
    "FROM sport, ville,\n",
    "WHERE ville.nom = \"Annecy\",\n",
    "AND sport.type = \"mur d'escalade\",\n",
    "AND sport.id,\n",
    "_ville = ville.id,\n",
    "ORDER BY sport.nom,\n",
    "```"
   ]
  }
 ],
 "metadata": {
  "kernelspec": {
   "display_name": "Python 3",
   "language": "python",
   "name": "python3"
  },
  "language_info": {
   "name": "python",
   "version": "3.12.1"
  }
 },
 "nbformat": 4,
 "nbformat_minor": 2
}
