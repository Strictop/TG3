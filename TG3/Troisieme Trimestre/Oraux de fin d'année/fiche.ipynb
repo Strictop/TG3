{
 "cells": [
  {
   "cell_type": "markdown",
   "metadata": {},
   "source": [
    "## brouillon\n",
    "\n",
    "Grand oral  \n",
    "- cyber  \n",
    "- Cryptographie (César/XOR)(symétrique)  \n",
    "- Vigenère (symétrique)  \n",
    "- RSA (asymétrique) booléen  \n",
    "(cryptage symétrique et asymétrique)  \n",
    "- César (ASCII) codage de caractère  \n",
    "Dire l'intérêt de l'un et de l'autre. Quelques un des aspects de la cyber.\n",
    "http/https  \n",
    "tout ce qui est aspect sécurité  \n",
    "écoute d'un réseau type wireshark --> Protocole de transmission  \n",
    "\n",
    "Sujet de physique (En cours):  \n",
    "\" À conditions environnementales égales (température extérieure et vent), dépense-t-on plus d’énergie (calories) en nageant en mer en Bretagne ou alors en courant un marathon ? \"  \n",
    "\n",
    "​\n",
    "​\n",
    "Voici un très bon cours sur RSA :\n",
    "https://glassus.github.io/terminale_nsi/T5_Architecture_materielle/5.4_Cryptographie/cours/\n",
    "\n",
    "Concernant l'opération Cactus\n",
    "\n",
    "Face à la multiplication des actes malveillants visant les ENT, à l'initiative du Parquet de Paris de lutte contre la Cybercriminalité, Cybermalveillance.gouv.fr, le Commandement du Ministère de l'Intérieur dans le Cyberespace, la CNIL et le ministère ont lancé l'opération Cactus du 19 au 21 mars 2025.\n",
    "\n",
    "L'opération Cactus repose sur une simulation d’hameçonnage visant à inciter les élèves à la prudence pour ne pas s’exposer et à les avertir du risque pénal encouru par les auteurs d’actes de cybermalveillance. Parmi les 2,5 millions d'élèves invités à cliquer sur un lien pour se procurer gratuitement des jeux vidéos piratés, 210 000 ont cliqué sur ce lien qui les a en réalité redirigés vers un message de sensibilisation contenant une une [courte vidéo](https://www.cybermalveillance.gouv.fr/tous-nos-contenus/action-prevention1-ent) conçue pour les informer, les responsabiliser et les dissuader de commettre des actions illégales sur Internet.\n",
    "\n",
    "\n",
    "De nombreux médias ont pu relayer la campagne de sensibilisation, qui doit se décliner régulièrement dans les académies dans les prochaines années.\n",
    "\n",
    "Voici par exemple un relais vers les jeunes par la chaine Hugo Décrypte : \n",
    "Plus de 2,5 millions de collégiens et lycéens en France ont reçu un faux lien pour les tester\n",
    "Pour en savoir plus : \n",
    "\n",
    "Opération Cactus : lancement national de la campagne de sensibilisation à l’hameçonnage dans les espaces numériques de travail | Ministère de l'Education Nationale, de l'Enseignement supérieur et de la Recherche"
   ]
  },
  {
   "cell_type": "code",
   "execution_count": 7,
   "metadata": {},
   "outputs": [
    {
     "name": "stdout",
     "output_type": "stream",
     "text": [
      "Clés RSA générées et sauvegardées dans 'private_key.pem' et 'public_key.pem'.\n"
     ]
    }
   ],
   "source": [
    "from cryptography.hazmat.primitives.asymmetric import rsa\n",
    "from cryptography.hazmat.primitives import serialization\n",
    "\n",
    "# Générer une clé privée RSA\n",
    "private_key = rsa.generate_private_key(\n",
    "    public_exponent=65537,\n",
    "    key_size=2048\n",
    ")\n",
    "\n",
    "# Exporter la clé privée au format PEM\n",
    "private_pem = private_key.private_bytes(\n",
    "    encoding=serialization.Encoding.PEM,\n",
    "    format=serialization.PrivateFormat.TraditionalOpenSSL,\n",
    "    encryption_algorithm=serialization.NoEncryption()\n",
    ")\n",
    "\n",
    "# Générer la clé publique correspondante\n",
    "public_key = private_key.public_key()\n",
    "\n",
    "# Exporter la clé publique au format PEM\n",
    "public_pem = public_key.public_bytes(\n",
    "    encoding=serialization.Encoding.PEM,\n",
    "    format=serialization.PublicFormat.SubjectPublicKeyInfo\n",
    ")\n",
    "\n",
    "# Sauvegarder les clés dans des fichiers\n",
    "with open(\"private_key.pem\", \"wb\") as private_file:\n",
    "    private_file.write(private_pem)\n",
    "\n",
    "with open(\"public_key.pem\", \"wb\") as public_file:\n",
    "    public_file.write(public_pem)\n",
    "\n",
    "print(\"Clés RSA générées et sauvegardées dans 'private_key.pem' et 'public_key.pem'.\")"
   ]
  }
 ],
 "metadata": {
  "kernelspec": {
   "display_name": "Python 3",
   "language": "python",
   "name": "python3"
  },
  "language_info": {
   "codemirror_mode": {
    "name": "ipython",
    "version": 3
   },
   "file_extension": ".py",
   "mimetype": "text/x-python",
   "name": "python",
   "nbconvert_exporter": "python",
   "pygments_lexer": "ipython3",
   "version": "3.12.1"
  }
 },
 "nbformat": 4,
 "nbformat_minor": 2
}
