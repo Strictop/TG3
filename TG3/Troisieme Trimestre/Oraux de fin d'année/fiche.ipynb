{
 "cells": [
  {
   "cell_type": "markdown",
   "metadata": {},
   "source": [
    "## brouillon\n",
    "\n",
    "Grand oral  \n",
    "- cyber  \n",
    "- Cryptographie (César/XOR)(symétrique)  \n",
    "- Vigenère (symétrique)  \n",
    "- RSA (asymétrique) booléen  \n",
    "(cryptage symétrique et asymétrique)  \n",
    "- César (ASCII) codage de caractère  \n",
    "Dire l'intérêt de l'un et de l'autre. Quelques un des aspects de la cyber.\n",
    "http/https  \n",
    "tout ce qui est aspect sécurité  \n",
    "écoute d'un réseau type wireshark --> Protocole de transmission  \n",
    "\n",
    "Sujet de physique (En cours):  \n",
    "\" À conditions environnementales égales (température extérieure et vent), dépense-t-on plus d’énergie (calories) en nageant en mer en Bretagne ou alors en courant un marathon ? \" "
   ]
  }
 ],
 "metadata": {
  "language_info": {
   "name": "python"
  }
 },
 "nbformat": 4,
 "nbformat_minor": 2
}
