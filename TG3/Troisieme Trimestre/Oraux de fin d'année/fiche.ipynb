{
 "cells": [
  {
   "cell_type": "markdown",
   "metadata": {},
   "source": [
    "## brouillon\n",
    "\n",
    "Grand oral  \n",
    "- cyber  \n",
    "- Cryptographie (César/XOR)(symétrique)  \n",
    "- Vigenère (symétrique)  \n",
    "- RSA (asymétrique) booléen  \n",
    "(cryptage symétrique et asymétrique)  \n",
    "- César (ASCII) codage de caractère  \n",
    "Dire l'intérêt de l'un et de l'autre. Quelques un des aspects de la cyber.\n",
    "http/https  \n",
    "tout ce qui est aspect sécurité  \n",
    "écoute d'un réseau type wireshark --> Protocole de transmission  \n",
    "\n",
    "Sujet de physique (En cours):  \n",
    "\" À conditions environnementales égales (température extérieure et vent), dépense-t-on plus d’énergie (calories) en nageant en mer en Bretagne ou alors en courant un marathon ? \"  \n",
    "\n",
    "​\n",
    "​\n",
    "Voici un très bon cours sur RSA :\n",
    "https://glassus.github.io/terminale_nsi/T5_Architecture_materielle/5.4_Cryptographie/cours/\n",
    "\n",
    "Concernant l'opération Cactus\n",
    "\n",
    "Face à la multiplication des actes malveillants visant les ENT, à l'initiative du Parquet de Paris de lutte contre la Cybercriminalité, Cybermalveillance.gouv.fr, le Commandement du Ministère de l'Intérieur dans le Cyberespace, la CNIL et le ministère ont lancé l'opération Cactus du 19 au 21 mars 2025.\n",
    "\n",
    "L'opération Cactus repose sur une simulation d’hameçonnage visant à inciter les élèves à la prudence pour ne pas s’exposer et à les avertir du risque pénal encouru par les auteurs d’actes de cybermalveillance. Parmi les 2,5 millions d'élèves invités à cliquer sur un lien pour se procurer gratuitement des jeux vidéos piratés, 210 000 ont cliqué sur ce lien qui les a en réalité redirigés vers un message de sensibilisation contenant une une [courte vidéo](https://www.cybermalveillance.gouv.fr/tous-nos-contenus/action-prevention1-ent) conçue pour les informer, les responsabiliser et les dissuader de commettre des actions illégales sur Internet.\n",
    "\n",
    "\n",
    "De nombreux médias ont pu relayer la campagne de sensibilisation, qui doit se décliner régulièrement dans les académies dans les prochaines années.\n",
    "\n",
    "Voici par exemple un relais vers les jeunes par la chaine Hugo Décrypte : \n",
    "Plus de 2,5 millions de collégiens et lycéens en France ont reçu un faux lien pour les tester\n",
    "Pour en savoir plus : \n",
    "\n",
    "Opération Cactus : lancement national de la campagne de sensibilisation à l’hameçonnage dans les espaces numériques de travail | Ministère de l'Education Nationale, de l'Enseignement supérieur et de la Recherche"
   ]
  }
 ],
 "metadata": {
  "language_info": {
   "name": "python"
  }
 },
 "nbformat": 4,
 "nbformat_minor": 2
}
