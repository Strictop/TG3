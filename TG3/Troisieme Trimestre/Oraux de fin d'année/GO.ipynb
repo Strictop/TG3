{
 "cells": [
  {
   "cell_type": "markdown",
   "id": "07a8559a",
   "metadata": {},
   "source": [
    "# Algorithme de cryptographie\n",
    "\n",
    "\n",
    "\n",
    "### Chifrement symétrique\n",
    "\n",
    "### Chiffrement asymétrique\n",
    "\n",
    "### "
   ]
  },
  {
   "cell_type": "markdown",
   "id": "b6e07a8e",
   "metadata": {},
   "source": []
  }
 ],
 "metadata": {
  "language_info": {
   "name": "python"
  }
 },
 "nbformat": 4,
 "nbformat_minor": 5
}
