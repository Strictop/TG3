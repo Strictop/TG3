{
 "cells": [
  {
   "cell_type": "markdown",
   "id": "960942a1",
   "metadata": {},
   "source": [
    "4)  |Destination|Suivant|Nombre de sauts|\n",
    "    |:---       |-----  |---:           |\n",
    "    |R2         |R2     |1              |\n",
    "    |R3         |R3     |1              |\n",
    "    |R4         |R4     |1              |\n",
    "    |R5         |R3     |2              |\n",
    "    |R6         |R6     |1              |\n",
    "    |R7         |R6     |2              |\n",
    "    |R8         |R6     |2              |\n",
    "    |R9         |R6     |3              |  \n"
   ]
  },
  {
   "cell_type": "code",
   "execution_count": 1,
   "id": "eac7bfb2",
   "metadata": {},
   "outputs": [],
   "source": [
    "# Question 6\n",
    "M = [\n",
    "    [0,1,1,1,0,0,0,0,0],\n",
    "    [1,0,1,0,1,0,0,0,0],\n",
    "    [1,1,0,0,1,1,0,0,0],\n",
    "    [1,0,0,0,0,1,0,0,0],\n",
    "    [0,1,1,0,0,1,1,0,0],\n",
    "    [0,0,1,1,1,0,1,1,0],\n",
    "    [0,0,0,0,1,1,0,1,1],\n",
    "    [0,0,0,0,0,1,1,0,1],\n",
    "    [0,0,0,0,0,0,1,1,0],\n",
    "]"
   ]
  },
  {
   "cell_type": "code",
   "execution_count": 2,
   "id": "9021498e",
   "metadata": {},
   "outputs": [
    {
     "name": "stdout",
     "output_type": "stream",
     "text": [
      "[[0, 1, 1, 1, 0, 0, 0, 0, 0], [1, 0, 1, 0, 1, 0, 0, 0, 0], [1, 1, 0, 0, 1, 1, 0, 0, 0], [1, 0, 0, 0, 0, 1, 0, 0, 0], [0, 1, 1, 0, 0, 1, 1, 0, 0], [0, 0, 1, 1, 1, 0, 1, 1, 0], [0, 0, 0, 0, 1, 1, 0, 1, 1], [0, 0, 0, 0, 0, 1, 1, 0, 1], [0, 0, 0, 0, 0, 0, 1, 1, 0]]\n"
     ]
    }
   ],
   "source": [
    "print(M)"
   ]
  },
  {
   "cell_type": "code",
   "execution_count": 5,
   "id": "c23b32e1",
   "metadata": {},
   "outputs": [],
   "source": [
    "# Question 7\n",
    "def degre(MATRICE):\n",
    "    d = []\n",
    "    for i in MATRICE:\n",
    "        cpt = 0\n",
    "        for valeur in i:\n",
    "            cpt = cpt + valeur\n",
    "        d.append(cpt)\n",
    "    return d"
   ]
  },
  {
   "cell_type": "code",
   "execution_count": 6,
   "id": "cca8a670",
   "metadata": {},
   "outputs": [
    {
     "data": {
      "text/plain": [
       "[3, 3, 4, 2, 4, 5, 4, 3, 2]"
      ]
     },
     "execution_count": 6,
     "metadata": {},
     "output_type": "execute_result"
    }
   ],
   "source": [
    "degre(M)"
   ]
  },
  {
   "cell_type": "code",
   "execution_count": 3,
   "id": "b20c8441",
   "metadata": {},
   "outputs": [],
   "source": [
    "def degre(MATRICE):\n",
    "    d = []\n",
    "    for tab in len(MATRICE):\n",
    "        cpt = 0\n",
    "        for valeur in tab:\n",
    "            cpt = cpt + valeur\n",
    "        d.append(cpt)\n",
    "    return d"
   ]
  },
  {
   "cell_type": "code",
   "execution_count": 4,
   "id": "f686b0a9",
   "metadata": {},
   "outputs": [
    {
     "ename": "TypeError",
     "evalue": "'int' object is not iterable",
     "output_type": "error",
     "traceback": [
      "\u001b[0;31m---------------------------------------------------------------------------\u001b[0m",
      "\u001b[0;31mTypeError\u001b[0m                                 Traceback (most recent call last)",
      "Cell \u001b[0;32mIn[4], line 1\u001b[0m\n\u001b[0;32m----> 1\u001b[0m \u001b[43mdegre\u001b[49m\u001b[43m(\u001b[49m\u001b[43mM\u001b[49m\u001b[43m)\u001b[49m\n",
      "Cell \u001b[0;32mIn[3], line 3\u001b[0m, in \u001b[0;36mdegre\u001b[0;34m(MATRICE)\u001b[0m\n\u001b[1;32m      1\u001b[0m \u001b[38;5;28;01mdef\u001b[39;00m \u001b[38;5;21mdegre\u001b[39m(MATRICE):\n\u001b[1;32m      2\u001b[0m     d \u001b[38;5;241m=\u001b[39m []\n\u001b[0;32m----> 3\u001b[0m \u001b[43m    \u001b[49m\u001b[38;5;28;43;01mfor\u001b[39;49;00m\u001b[43m \u001b[49m\u001b[43mtab\u001b[49m\u001b[43m \u001b[49m\u001b[38;5;129;43;01min\u001b[39;49;00m\u001b[43m \u001b[49m\u001b[38;5;28;43mlen\u001b[39;49m\u001b[43m(\u001b[49m\u001b[43mMATRICE\u001b[49m\u001b[43m)\u001b[49m\u001b[43m:\u001b[49m\n\u001b[1;32m      4\u001b[0m \u001b[43m        \u001b[49m\u001b[43mcpt\u001b[49m\u001b[43m \u001b[49m\u001b[38;5;241;43m=\u001b[39;49m\u001b[43m \u001b[49m\u001b[38;5;241;43m0\u001b[39;49m\n\u001b[1;32m      5\u001b[0m \u001b[43m        \u001b[49m\u001b[38;5;28;43;01mfor\u001b[39;49;00m\u001b[43m \u001b[49m\u001b[43mvaleur\u001b[49m\u001b[43m \u001b[49m\u001b[38;5;129;43;01min\u001b[39;49;00m\u001b[43m \u001b[49m\u001b[43mtab\u001b[49m\u001b[43m:\u001b[49m\n",
      "\u001b[0;31mTypeError\u001b[0m: 'int' object is not iterable"
     ]
    }
   ],
   "source": [
    "degre(M)"
   ]
  }
 ],
 "metadata": {
  "kernelspec": {
   "display_name": "Python 3",
   "language": "python",
   "name": "python3"
  },
  "language_info": {
   "codemirror_mode": {
    "name": "ipython",
    "version": 3
   },
   "file_extension": ".py",
   "mimetype": "text/x-python",
   "name": "python",
   "nbconvert_exporter": "python",
   "pygments_lexer": "ipython3",
   "version": "3.12.1"
  }
 },
 "nbformat": 4,
 "nbformat_minor": 5
}
