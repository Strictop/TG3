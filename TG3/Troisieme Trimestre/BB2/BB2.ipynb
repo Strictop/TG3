{
 "cells": [
  {
   "cell_type": "markdown",
   "id": "960942a1",
   "metadata": {},
   "source": [
    "4)  |Destination|Suivant|Nombre de sauts|\n",
    "    |:---       |-----  |---:           |\n",
    "    |R2         |R2     |1              |\n",
    "    |R3         |R3     |1              |\n",
    "    |R4         |R4     |1              |\n",
    "    |R5         |R3     |2              |\n",
    "    |R6         |R6     |1              |\n",
    "    |R7         |R6     |2              |\n",
    "    |R8         |R6     |2              |\n",
    "    |R9         |R6     |3              |  \n",
    "\n",
    "|\n"
   ]
  },
  {
   "cell_type": "code",
   "execution_count": 2,
   "id": "eac7bfb2",
   "metadata": {},
   "outputs": [],
   "source": [
    "M = [0,1,1,1,0,0,0,0,0,\n",
    "     1,0,1,0,1,0,0,0,0,\n",
    "     1,1,0,0,1,1,0,0,0,\n",
    "     1,0,0,0,0,1,0,0,0,\n",
    "     0,1,1,0,0,1,1,0,0,\n",
    "     0,0,1,1,1,0,1,1,0,\n",
    "     0,0,0,0,1,1,0,1,1,\n",
    "     0,0,0,0,0,1,1,0,1,\n",
    "     0,0,0,0,0,0,1,1,0]"
   ]
  },
  {
   "cell_type": "code",
   "execution_count": 3,
   "id": "9021498e",
   "metadata": {},
   "outputs": [
    {
     "name": "stdout",
     "output_type": "stream",
     "text": [
      "[0, 1, 1, 1, 0, 0, 0, 0, 0, 1, 0, 1, 0, 1, 0, 0, 0, 0, 1, 1, 0, 0, 1, 1, 0, 0, 0, 1, 0, 0, 0, 0, 1, 0, 0, 0, 0, 1, 1, 0, 0, 1, 1, 0, 0, 0, 0, 1, 1, 1, 0, 1, 1, 0, 0, 0, 0, 0, 1, 1, 0, 1, 1, 0, 0, 0, 0, 0, 1, 1, 0, 1, 0, 0, 0, 0, 0, 0, 1, 1, 0]\n"
     ]
    }
   ],
   "source": [
    "print(M)"
   ]
  },
  {
   "cell_type": "code",
   "execution_count": null,
   "id": "c23b32e1",
   "metadata": {},
   "outputs": [],
   "source": [
    "def "
   ]
  }
 ],
 "metadata": {
  "kernelspec": {
   "display_name": "Python 3",
   "language": "python",
   "name": "python3"
  },
  "language_info": {
   "codemirror_mode": {
    "name": "ipython",
    "version": 3
   },
   "file_extension": ".py",
   "mimetype": "text/x-python",
   "name": "python",
   "nbconvert_exporter": "python",
   "pygments_lexer": "ipython3",
   "version": "3.12.1"
  }
 },
 "nbformat": 4,
 "nbformat_minor": 5
}
