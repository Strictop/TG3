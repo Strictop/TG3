{
 "cells": [
  {
   "cell_type": "markdown",
   "id": "20f88ee6",
   "metadata": {},
   "source": [
    "# exercice 1\n",
    "\n",
    "1. Dans le programme 1 les valeurs de x et y sont:\n",
    "x=0\n",
    "y=20\n",
    "2. C'est un fichier texte donc python peut etre vu comme une chaine de caractere\n",
    "3. Le programme 3 et 5 se terminent alors que le 4 et le 6 ne se terminent pas, ils sont infini.\n",
    "4. blabla\n",
    "5. "
   ]
  }
 ],
 "metadata": {
  "language_info": {
   "name": "python"
  }
 },
 "nbformat": 4,
 "nbformat_minor": 5
}
