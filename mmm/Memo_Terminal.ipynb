{
 "cells": [
  {
   "attachments": {},
   "cell_type": "markdown",
   "metadata": {},
   "source": [
    "# Mémo Terminal"
   ]
  },
  {
   "attachments": {},
   "cell_type": "markdown",
   "metadata": {},
   "source": [
    "- `uname` qui renvoie le nom du système d'exploitation de la machine ;\n",
    "- `uname -n` qui renvoie le nom de la machine ;\n",
    "- `uname -a` qui complète avec d'autres informations concernant la version de l'OS et le hardware de la machine...\n"
   ]
  },
  {
   "attachments": {},
   "cell_type": "markdown",
   "metadata": {},
   "source": [
    "- **auto-complétion**        : touche `Tab` permet d'ajouter la suite de la commande, du nom du répertoire ou du fichier.\n",
    "- **historique de commande** : flèches haut et bas permettent de rappeler des anciennes commandes ; Bill GATES a codé ces touches UNIX quand il était étudiant.\n",
    "- **Nicolas Holzschuch**     : Directeur de recherche à l’INRIA de Grenoble-Rhône-Alpes + développeur de l'application Carnets."
   ]
  },
  {
   "attachments": {},
   "cell_type": "markdown",
   "metadata": {},
   "source": [
    "### Abréviations :\n",
    "- **pwd**   : present working directory\n",
    "- **cat**   : catenate\n",
    "- **cd**    : change directory\n",
    "- **cp**    : copy\n",
    "- **mv**    : move\n",
    "- **mkdir** : make directory\n",
    "- **rm**    : remove"
   ]
  },
  {
   "attachments": {},
   "cell_type": "markdown",
   "metadata": {},
   "source": [
    "### Commandes du jeu :\n",
    "- cat\t: Utiliser ou lire un objet, ou bien parler à quelqu'un.\n",
    "- ls\t: Décrire un chemin.\n",
    "- cd\t: Se déplacer dans un autre chemin.\n",
    "- man\t: En savoir plus sur un sort.\n",
    "- help\t: Lister les sorts utilisables.\n",
    "- exit\t: Quitter le jeu.\n",
    "- mv\t: Déplacer un objet dans un autre chemin.\n",
    "- rm    : Faire disparaitre un objet.\n",
    "- mkdir : Permet de créer un nouveau chemin.\n",
    "- touch : Permet de créer un objet.\n",
    "- cp    : Permet de clonner un objet.\n",
    "- cd~   : Revenir au point de départ du jeu, au dossier \"utilisateur\".\n",
    "- ./    : Utiliser un objet.\n",
    "- grep  : Trouver toutes les référances d'un mot dans un livre.\n",
    "- unzip : Ouvrir un sac.\n",
    "- sudo  : Permet de demander les droits de \"super utilisateur\" pour écrire dans les dossiers du jeu.\n",
    "- cd /  : Ramène au tout début du jeu, au dossier racine qui est à l'origine du jeu.\n",
    "- cd .. : Ramène à l'endroit précédent, au dossier parent."
   ]
  }
 ],
 "metadata": {
  "language_info": {
   "name": "python"
  },
  "orig_nbformat": 4
 },
 "nbformat": 4,
 "nbformat_minor": 2
}
