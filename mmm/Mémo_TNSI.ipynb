{
 "cells": [
  {
   "cell_type": "markdown",
   "metadata": {},
   "source": [
    "# Paradigmes de programmation"
   ]
  },
  {
   "cell_type": "markdown",
   "metadata": {},
   "source": [
    "### Programmation impérative :\n",
    "\n",
    "- Une suite d’instructions qui s’exécutent séquentiellement, les unes après les autres ;\n",
    "\n",
    "    Ces instructions comportent :\n",
    "    - Affectations\n",
    "    - Boucles (pour.., tant que…, répéter…jusqu’à…)\n",
    "    - Conditions (si…sinon)\n",
    "    - Branchement/saut sans condition\n",
    "    \n",
    "    \n",
    "- Sous-paradigme qui limite le plus possible les sauts appelé **programmation structurée** :\n",
    "    \n",
    "    Les sauts sont utilisés en assembleur (instructions BR adr, « branch vers adresse » ).\n",
    "    \n",
    "    En Python, limite aussi le `break` \n",
    "    \n",
    "    A l’inverse, programmation utilisant de nombreux sauts : « programmation spaghetti »\n",
    "    \n",
    "    \n",
    "- L’usage des fonctions : variante de la programmation impérative, appelée **programmation procédurale**.\n"
   ]
  },
  {
   "cell_type": "markdown",
   "metadata": {},
   "source": [
    "### Programmation Orientée Objetv (POO)\n",
    "\n",
    "- Assemblage de briques (objets)\n",
    "- Communication entre les objets\n"
   ]
  },
  {
   "cell_type": "markdown",
   "metadata": {},
   "source": [
    "### Programmation récursive\n",
    "\n",
    "- Utilisation d'une boucles infinie dans un programme (Exemple : Dans ne fonction, renvoie de la fonction elle-même)"
   ]
  },
  {
   "cell_type": "markdown",
   "metadata": {},
   "source": [
    "# Le Réseau"
   ]
  },
  {
   "cell_type": "markdown",
   "metadata": {},
   "source": [
    "### Relever les paramètres du réseau :\n",
    "\n",
    "- cmd : Ouvre l'invite de commandes de l'ordinateur\n",
    "- ipconfig : Affiche des informations\n",
    "- ipconfig /all : Affiche des informations détaillées\n",
    "- ipconfig /renew : Renouvelle toutes les cartes\n",
    "- ipconfig /renew EL* : Renouvelle toute connexion dont le nom commence par EL\n",
    "- ipconfig /release Con* : Libère toutes les connexions correspondantes, par ex. « Connexion Ethernet câblée 1 »\n",
    "- ipconfig /allcompartments : Affiche des informations sur tous les compartiments\n",
    "- ipconfig /allcompartments /all : Affiche des informations détaillées sur tous les compartiments\n",
    "- ipconfig/? : Affiche les commandes utilisables\n",
    "- ping : Vérifie la connexion à un autre appareil"
   ]
  },
  {
   "cell_type": "markdown",
   "metadata": {},
   "source": [
    "### Vocabulaire (Adresses, Serveurs...)\n",
    "\n",
    "- Adresse MAC (Media Access Contro) : Identifiant physique unique stocké dans une carte réseau. Toutes les cartes réseau ont une adresse MAC.\n",
    "- Serveur DNS (Domain Name System) : Service informatique qui associe les noms de domaine Internet avec leurs adresses IP.\n",
    "- Serveur DHCP (Dynamic Host Configuration Protocol) : Protocole réseau qui sert à assurer la configuration automatique des paramètres IP d’une station ou d'une machine en lui attribuant une adresse IP.\n",
    "- Adresse APIPA (Automatic Private Internet Protocol Addressing) : Adresse que la machine va s'attribuer automatiquement si les requêtes DHCP effectuées auparavant échouent, quand la carte réseaux est configurée en DHCP mais qu'elle ne parvient pas à trouver réponse à ses requêtes, elle choisit alors de se paramétrer en adressage APIPA.\n",
    "- Auto MDIX : Fonctionnalité qui permet à l'interface de commutation de détecter le type de connexion par câble qui est requise (direct ou croisé) et de configurer automatiquement la connexion en conséquence.\n",
    "- Câble croisé : Un cable croisé sert à relier deux périphériques comme deux ordinateurs par exemple.\n",
    "- SSH (Secure Shell) : Programme informatique et protocole de communication sécurisé qui impose un échange de clés de chiffrement en début de connexion."
   ]
  },
  {
   "cell_type": "markdown",
   "metadata": {},
   "source": [
    "### Introduction au réseau \n",
    "\n",
    "- Câble Ethernet (prises RJ45) : Câble reliant les 2 ordinateurs\n",
    "- Carte réseau (type Ethernet) : Un ordinateur relié à un réseau doit posséder une carte réseau\n",
    "- Commutateur réseau, souvent appelé switch (plusieurs prises RJ45) : Relier un plus grand nombre d'ordinateur\n",
    "- Adresses IP (forme : \"a.b.c.d\" compris entre 0 et 255 codés sur 1 octet) \n",
    "- Adresse réseau ( 3 premiers octets)\n",
    "\n",
    "### Attention :\n",
    "\n",
    "On rajoute souvent à l'adresse IP un \"/\" suivit du nombre 8, 16 ou 24 aux adresses IP (a.b.c.d).\n",
    "Le 8 signifie que les 8 premiers bits (le premier octet) consacrés à la partie réseau => a, que le 16 signifie que les 16 premiers bits (les deux premiers octets) sont consacrés à la partie réseau => a.b et que le 24 signifie que les 24 premiers bits (les 3 premiers octets) sont consacrés à la partie réseau => a.b.c\n"
   ]
  },
  {
   "cell_type": "markdown",
   "metadata": {},
   "source": [
    "# Try, erase, assert"
   ]
  },
  {
   "cell_type": "markdown",
   "metadata": {},
   "source": [
    "### Try : <br>\n",
    "&nbsp;&nbsp;&nbsp;if not {condition à respecter} :<br>\n",
    "&nbsp;&nbsp;&nbsp;&nbsp;&nbsp;&nbsp;raise {type d'erreur}()<br>\n",
    "&nbsp;&nbsp;&nbsp;except {type d'erreur} :<br>\n",
    "&nbsp;&nbsp;&nbsp;&nbsp;&nbsp;&nbsp;*Gérer la situation avant de sortir de la fonction*"
   ]
  },
  {
   "cell_type": "markdown",
   "metadata": {},
   "source": [
    "### Assert: <br>\n",
    "assert + condition,\"texte d'explication\"\n",
    "  "
   ]
  },
  {
   "cell_type": "markdown",
   "metadata": {},
   "source": [
    "# POO"
   ]
  },
  {
   "cell_type": "markdown",
   "metadata": {},
   "source": [
    "### Vocabulaire :\n",
    "\n",
    "- les nouveaux types (structures) de données que l'on définit : les classes\n",
    "    \n",
    "- les représentants de ces nouveaux types : les instances(objets)\n",
    "        \n",
    "- les variables (caractéristiques) liées à ces nouveaux types : les attributs\n",
    "    \n",
    "- les fonctions (comportement) propres à ces nouveaux types : les méthodes\n",
    "\n",
    "- l'encapsulation : L’encapsulation empêche de modifier ou d’accéder aux objets par un autre moyen que les méthodes proposées.\n",
    "    \n",
    "- le constructeur : Le constructeur permet de construire un objet d'un classe.  Exemple: __init__\n",
    "    \n",
    "- l'accesseur : L'accesseur permet d'accéder aux données d'une classe.\n",
    "    \n",
    "- le mutateur : Le mutateur permet de modifier les données d'une classe.\n",
    "    "
   ]
  },
  {
   "cell_type": "markdown",
   "metadata": {},
   "source": [
    "### Exercises POO :\n",
    "https://e-nsi.forge.aeif.fr/pratique/tags/#7-poo"
   ]
  }
 ],
 "metadata": {
  "language_info": {
   "name": "python"
  },
  "orig_nbformat": 4
 },
 "nbformat": 4,
 "nbformat_minor": 2
}
